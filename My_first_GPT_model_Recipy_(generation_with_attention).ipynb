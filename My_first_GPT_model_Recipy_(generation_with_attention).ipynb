{
  "nbformat": 4,
  "nbformat_minor": 0,
  "metadata": {
    "colab": {
      "provenance": [],
      "gpuType": "T4",
      "mount_file_id": "1SWaSPThr3NFcdCh7naVCWhpGJz6rtxGW",
      "authorship_tag": "ABX9TyMZjwRrOLSsKzL2cL6QXiG2",
      "include_colab_link": true
    },
    "kernelspec": {
      "name": "python3",
      "display_name": "Python 3"
    },
    "language_info": {
      "name": "python"
    },
    "accelerator": "GPU"
  },
  "cells": [
    {
      "cell_type": "markdown",
      "metadata": {
        "id": "view-in-github",
        "colab_type": "text"
      },
      "source": [
        "<a href=\"https://colab.research.google.com/github/shivang2607/Machine-Learning/blob/main/My_first_GPT_model_Recipy_(generation_with_attention).ipynb\" target=\"_parent\"><img src=\"https://colab.research.google.com/assets/colab-badge.svg\" alt=\"Open In Colab\"/></a>"
      ]
    },
    {
      "cell_type": "code",
      "execution_count": 1,
      "metadata": {
        "id": "qc5qu7t-JuQL"
      },
      "outputs": [],
      "source": [
        "import tensorflow as tf\n",
        "from tensorflow.keras import layers, models\n",
        "import pandas as pd\n",
        "import numpy as np\n",
        "import json\n",
        "\n"
      ]
    },
    {
      "cell_type": "code",
      "source": [
        "# data = pd.read_json('/content/drive/MyDrive/Kaggle/full_format_recipes.json')\n",
        "# data.head()\n"
      ],
      "metadata": {
        "colab": {
          "base_uri": "https://localhost:8080/",
          "height": 562
        },
        "id": "DdoNLnP9Wnei",
        "outputId": "4ae9fb07-68f1-4841-e8a2-05652ebad595"
      },
      "execution_count": 2,
      "outputs": [
        {
          "output_type": "execute_result",
          "data": {
            "text/plain": [
              "                                          directions   fat  \\\n",
              "0  [1. Place the stock, lentils, celery, carrot, ...   7.0   \n",
              "1  [Combine first 9 ingredients in heavy medium s...  23.0   \n",
              "2  [In a large heavy saucepan cook diced fennel a...   7.0   \n",
              "3  [Heat oil in heavy large skillet over medium-h...   NaN   \n",
              "4  [Preheat oven to 350°F. Lightly grease 8x8x2-i...  32.0   \n",
              "\n",
              "                       date  \\\n",
              "0 2006-09-01 04:00:00+00:00   \n",
              "1 2004-08-20 04:00:00+00:00   \n",
              "2 2004-08-20 04:00:00+00:00   \n",
              "3 2009-03-27 04:00:00+00:00   \n",
              "4 2004-08-20 04:00:00+00:00   \n",
              "\n",
              "                                          categories  calories  \\\n",
              "0  [Sandwich, Bean, Fruit, Tomato, turkey, Vegeta...     426.0   \n",
              "1  [Food Processor, Onion, Pork, Bake, Bastille D...     403.0   \n",
              "2  [Soup/Stew, Dairy, Potato, Vegetable, Fennel, ...     165.0   \n",
              "3  [Fish, Olive, Tomato, Sauté, Low Fat, Low Cal,...       NaN   \n",
              "4  [Cheese, Dairy, Pasta, Vegetable, Side, Bake, ...     547.0   \n",
              "\n",
              "                                                desc  protein  rating  \\\n",
              "0                                               None     30.0   2.500   \n",
              "1  This uses the same ingredients found in boudin...     18.0   4.375   \n",
              "2                                               None      6.0   3.750   \n",
              "3  The Sicilian-style tomato sauce has tons of Me...      NaN   5.000   \n",
              "4                                               None     20.0   3.125   \n",
              "\n",
              "                                         title  \\\n",
              "0              Lentil, Apple, and Turkey Wrap    \n",
              "1  Boudin Blanc Terrine with Red Onion Confit    \n",
              "2                Potato and Fennel Soup Hodge    \n",
              "3             Mahi-Mahi in Tomato Olive Sauce    \n",
              "4                    Spinach Noodle Casserole    \n",
              "\n",
              "                                         ingredients  sodium  \n",
              "0  [4 cups low-sodium vegetable or chicken stock,...   559.0  \n",
              "1  [1 1/2 cups whipping cream, 2 medium onions, c...  1439.0  \n",
              "2  [1 fennel bulb (sometimes called anise), stalk...   165.0  \n",
              "3  [2 tablespoons extra-virgin olive oil, 1 cup c...     NaN  \n",
              "4  [1 12-ounce package frozen spinach soufflé, th...   452.0  "
            ],
            "text/html": [
              "\n",
              "\n",
              "  <div id=\"df-37dd6133-0f50-4f87-9f90-83f5798ef4b6\">\n",
              "    <div class=\"colab-df-container\">\n",
              "      <div>\n",
              "<style scoped>\n",
              "    .dataframe tbody tr th:only-of-type {\n",
              "        vertical-align: middle;\n",
              "    }\n",
              "\n",
              "    .dataframe tbody tr th {\n",
              "        vertical-align: top;\n",
              "    }\n",
              "\n",
              "    .dataframe thead th {\n",
              "        text-align: right;\n",
              "    }\n",
              "</style>\n",
              "<table border=\"1\" class=\"dataframe\">\n",
              "  <thead>\n",
              "    <tr style=\"text-align: right;\">\n",
              "      <th></th>\n",
              "      <th>directions</th>\n",
              "      <th>fat</th>\n",
              "      <th>date</th>\n",
              "      <th>categories</th>\n",
              "      <th>calories</th>\n",
              "      <th>desc</th>\n",
              "      <th>protein</th>\n",
              "      <th>rating</th>\n",
              "      <th>title</th>\n",
              "      <th>ingredients</th>\n",
              "      <th>sodium</th>\n",
              "    </tr>\n",
              "  </thead>\n",
              "  <tbody>\n",
              "    <tr>\n",
              "      <th>0</th>\n",
              "      <td>[1. Place the stock, lentils, celery, carrot, ...</td>\n",
              "      <td>7.0</td>\n",
              "      <td>2006-09-01 04:00:00+00:00</td>\n",
              "      <td>[Sandwich, Bean, Fruit, Tomato, turkey, Vegeta...</td>\n",
              "      <td>426.0</td>\n",
              "      <td>None</td>\n",
              "      <td>30.0</td>\n",
              "      <td>2.500</td>\n",
              "      <td>Lentil, Apple, and Turkey Wrap</td>\n",
              "      <td>[4 cups low-sodium vegetable or chicken stock,...</td>\n",
              "      <td>559.0</td>\n",
              "    </tr>\n",
              "    <tr>\n",
              "      <th>1</th>\n",
              "      <td>[Combine first 9 ingredients in heavy medium s...</td>\n",
              "      <td>23.0</td>\n",
              "      <td>2004-08-20 04:00:00+00:00</td>\n",
              "      <td>[Food Processor, Onion, Pork, Bake, Bastille D...</td>\n",
              "      <td>403.0</td>\n",
              "      <td>This uses the same ingredients found in boudin...</td>\n",
              "      <td>18.0</td>\n",
              "      <td>4.375</td>\n",
              "      <td>Boudin Blanc Terrine with Red Onion Confit</td>\n",
              "      <td>[1 1/2 cups whipping cream, 2 medium onions, c...</td>\n",
              "      <td>1439.0</td>\n",
              "    </tr>\n",
              "    <tr>\n",
              "      <th>2</th>\n",
              "      <td>[In a large heavy saucepan cook diced fennel a...</td>\n",
              "      <td>7.0</td>\n",
              "      <td>2004-08-20 04:00:00+00:00</td>\n",
              "      <td>[Soup/Stew, Dairy, Potato, Vegetable, Fennel, ...</td>\n",
              "      <td>165.0</td>\n",
              "      <td>None</td>\n",
              "      <td>6.0</td>\n",
              "      <td>3.750</td>\n",
              "      <td>Potato and Fennel Soup Hodge</td>\n",
              "      <td>[1 fennel bulb (sometimes called anise), stalk...</td>\n",
              "      <td>165.0</td>\n",
              "    </tr>\n",
              "    <tr>\n",
              "      <th>3</th>\n",
              "      <td>[Heat oil in heavy large skillet over medium-h...</td>\n",
              "      <td>NaN</td>\n",
              "      <td>2009-03-27 04:00:00+00:00</td>\n",
              "      <td>[Fish, Olive, Tomato, Sauté, Low Fat, Low Cal,...</td>\n",
              "      <td>NaN</td>\n",
              "      <td>The Sicilian-style tomato sauce has tons of Me...</td>\n",
              "      <td>NaN</td>\n",
              "      <td>5.000</td>\n",
              "      <td>Mahi-Mahi in Tomato Olive Sauce</td>\n",
              "      <td>[2 tablespoons extra-virgin olive oil, 1 cup c...</td>\n",
              "      <td>NaN</td>\n",
              "    </tr>\n",
              "    <tr>\n",
              "      <th>4</th>\n",
              "      <td>[Preheat oven to 350°F. Lightly grease 8x8x2-i...</td>\n",
              "      <td>32.0</td>\n",
              "      <td>2004-08-20 04:00:00+00:00</td>\n",
              "      <td>[Cheese, Dairy, Pasta, Vegetable, Side, Bake, ...</td>\n",
              "      <td>547.0</td>\n",
              "      <td>None</td>\n",
              "      <td>20.0</td>\n",
              "      <td>3.125</td>\n",
              "      <td>Spinach Noodle Casserole</td>\n",
              "      <td>[1 12-ounce package frozen spinach soufflé, th...</td>\n",
              "      <td>452.0</td>\n",
              "    </tr>\n",
              "  </tbody>\n",
              "</table>\n",
              "</div>\n",
              "      <button class=\"colab-df-convert\" onclick=\"convertToInteractive('df-37dd6133-0f50-4f87-9f90-83f5798ef4b6')\"\n",
              "              title=\"Convert this dataframe to an interactive table.\"\n",
              "              style=\"display:none;\">\n",
              "\n",
              "  <svg xmlns=\"http://www.w3.org/2000/svg\" height=\"24px\"viewBox=\"0 0 24 24\"\n",
              "       width=\"24px\">\n",
              "    <path d=\"M0 0h24v24H0V0z\" fill=\"none\"/>\n",
              "    <path d=\"M18.56 5.44l.94 2.06.94-2.06 2.06-.94-2.06-.94-.94-2.06-.94 2.06-2.06.94zm-11 1L8.5 8.5l.94-2.06 2.06-.94-2.06-.94L8.5 2.5l-.94 2.06-2.06.94zm10 10l.94 2.06.94-2.06 2.06-.94-2.06-.94-.94-2.06-.94 2.06-2.06.94z\"/><path d=\"M17.41 7.96l-1.37-1.37c-.4-.4-.92-.59-1.43-.59-.52 0-1.04.2-1.43.59L10.3 9.45l-7.72 7.72c-.78.78-.78 2.05 0 2.83L4 21.41c.39.39.9.59 1.41.59.51 0 1.02-.2 1.41-.59l7.78-7.78 2.81-2.81c.8-.78.8-2.07 0-2.86zM5.41 20L4 18.59l7.72-7.72 1.47 1.35L5.41 20z\"/>\n",
              "  </svg>\n",
              "      </button>\n",
              "\n",
              "\n",
              "\n",
              "    <div id=\"df-83540479-2012-430b-ab20-3d7d9733b5d4\">\n",
              "      <button class=\"colab-df-quickchart\" onclick=\"quickchart('df-83540479-2012-430b-ab20-3d7d9733b5d4')\"\n",
              "              title=\"Suggest charts.\"\n",
              "              style=\"display:none;\">\n",
              "\n",
              "<svg xmlns=\"http://www.w3.org/2000/svg\" height=\"24px\"viewBox=\"0 0 24 24\"\n",
              "     width=\"24px\">\n",
              "    <g>\n",
              "        <path d=\"M19 3H5c-1.1 0-2 .9-2 2v14c0 1.1.9 2 2 2h14c1.1 0 2-.9 2-2V5c0-1.1-.9-2-2-2zM9 17H7v-7h2v7zm4 0h-2V7h2v10zm4 0h-2v-4h2v4z\"/>\n",
              "    </g>\n",
              "</svg>\n",
              "      </button>\n",
              "    </div>\n",
              "\n",
              "<style>\n",
              "  .colab-df-quickchart {\n",
              "    background-color: #E8F0FE;\n",
              "    border: none;\n",
              "    border-radius: 50%;\n",
              "    cursor: pointer;\n",
              "    display: none;\n",
              "    fill: #1967D2;\n",
              "    height: 32px;\n",
              "    padding: 0 0 0 0;\n",
              "    width: 32px;\n",
              "  }\n",
              "\n",
              "  .colab-df-quickchart:hover {\n",
              "    background-color: #E2EBFA;\n",
              "    box-shadow: 0px 1px 2px rgba(60, 64, 67, 0.3), 0px 1px 3px 1px rgba(60, 64, 67, 0.15);\n",
              "    fill: #174EA6;\n",
              "  }\n",
              "\n",
              "  [theme=dark] .colab-df-quickchart {\n",
              "    background-color: #3B4455;\n",
              "    fill: #D2E3FC;\n",
              "  }\n",
              "\n",
              "  [theme=dark] .colab-df-quickchart:hover {\n",
              "    background-color: #434B5C;\n",
              "    box-shadow: 0px 1px 3px 1px rgba(0, 0, 0, 0.15);\n",
              "    filter: drop-shadow(0px 1px 2px rgba(0, 0, 0, 0.3));\n",
              "    fill: #FFFFFF;\n",
              "  }\n",
              "</style>\n",
              "\n",
              "    <script>\n",
              "      async function quickchart(key) {\n",
              "        const containerElement = document.querySelector('#' + key);\n",
              "        const charts = await google.colab.kernel.invokeFunction(\n",
              "            'suggestCharts', [key], {});\n",
              "      }\n",
              "    </script>\n",
              "\n",
              "      <script>\n",
              "\n",
              "function displayQuickchartButton(domScope) {\n",
              "  let quickchartButtonEl =\n",
              "    domScope.querySelector('#df-83540479-2012-430b-ab20-3d7d9733b5d4 button.colab-df-quickchart');\n",
              "  quickchartButtonEl.style.display =\n",
              "    google.colab.kernel.accessAllowed ? 'block' : 'none';\n",
              "}\n",
              "\n",
              "        displayQuickchartButton(document);\n",
              "      </script>\n",
              "      <style>\n",
              "    .colab-df-container {\n",
              "      display:flex;\n",
              "      flex-wrap:wrap;\n",
              "      gap: 12px;\n",
              "    }\n",
              "\n",
              "    .colab-df-convert {\n",
              "      background-color: #E8F0FE;\n",
              "      border: none;\n",
              "      border-radius: 50%;\n",
              "      cursor: pointer;\n",
              "      display: none;\n",
              "      fill: #1967D2;\n",
              "      height: 32px;\n",
              "      padding: 0 0 0 0;\n",
              "      width: 32px;\n",
              "    }\n",
              "\n",
              "    .colab-df-convert:hover {\n",
              "      background-color: #E2EBFA;\n",
              "      box-shadow: 0px 1px 2px rgba(60, 64, 67, 0.3), 0px 1px 3px 1px rgba(60, 64, 67, 0.15);\n",
              "      fill: #174EA6;\n",
              "    }\n",
              "\n",
              "    [theme=dark] .colab-df-convert {\n",
              "      background-color: #3B4455;\n",
              "      fill: #D2E3FC;\n",
              "    }\n",
              "\n",
              "    [theme=dark] .colab-df-convert:hover {\n",
              "      background-color: #434B5C;\n",
              "      box-shadow: 0px 1px 3px 1px rgba(0, 0, 0, 0.15);\n",
              "      filter: drop-shadow(0px 1px 2px rgba(0, 0, 0, 0.3));\n",
              "      fill: #FFFFFF;\n",
              "    }\n",
              "  </style>\n",
              "\n",
              "      <script>\n",
              "        const buttonEl =\n",
              "          document.querySelector('#df-37dd6133-0f50-4f87-9f90-83f5798ef4b6 button.colab-df-convert');\n",
              "        buttonEl.style.display =\n",
              "          google.colab.kernel.accessAllowed ? 'block' : 'none';\n",
              "\n",
              "        async function convertToInteractive(key) {\n",
              "          const element = document.querySelector('#df-37dd6133-0f50-4f87-9f90-83f5798ef4b6');\n",
              "          const dataTable =\n",
              "            await google.colab.kernel.invokeFunction('convertToInteractive',\n",
              "                                                     [key], {});\n",
              "          if (!dataTable) return;\n",
              "\n",
              "          const docLinkHtml = 'Like what you see? Visit the ' +\n",
              "            '<a target=\"_blank\" href=https://colab.research.google.com/notebooks/data_table.ipynb>data table notebook</a>'\n",
              "            + ' to learn more about interactive tables.';\n",
              "          element.innerHTML = '';\n",
              "          dataTable['output_type'] = 'display_data';\n",
              "          await google.colab.output.renderOutput(dataTable, element);\n",
              "          const docLink = document.createElement('div');\n",
              "          docLink.innerHTML = docLinkHtml;\n",
              "          element.appendChild(docLink);\n",
              "        }\n",
              "      </script>\n",
              "    </div>\n",
              "  </div>\n"
            ]
          },
          "metadata": {},
          "execution_count": 2
        }
      ]
    },
    {
      "cell_type": "code",
      "source": [
        "from IPython.display import HTML, display\n",
        "\n",
        "def my_css():\n",
        "   display(HTML(\"\"\"<style>table.dataframe td{white-space: nowrap;}</style>\"\"\"))\n",
        "\n",
        "get_ipython().events.register('pre_run_cell', my_css)"
      ],
      "metadata": {
        "id": "JrWoyFBxIUVh"
      },
      "execution_count": 39,
      "outputs": []
    },
    {
      "cell_type": "code",
      "source": [
        "with open('/content/drive/MyDrive/Kaggle/full_format_recipes.json') as json_data:\n",
        "    recipe_data = json.load(json_data)\n",
        "filtered_data = ['Recipe for ' + x['title']+ ' | ' + ' '.join(x['directions'])\n",
        "for x in recipe_data\n",
        "if 'title' in x\n",
        "and x['title'] is not None\n",
        "and 'directions' in x\n",
        "and x['directions'] is not None\n",
        "]\n"
      ],
      "metadata": {
        "id": "p1f6HxxEXDUT"
      },
      "execution_count": 2,
      "outputs": []
    },
    {
      "cell_type": "code",
      "source": [
        "# We would also like to tokenize punctuations as they tell us wether the sentence is exclamation or question etc\n",
        "import string\n",
        "import re\n",
        "def pad_punctuation(s):\n",
        "    s = re.sub(f\"([{string.punctuation}])\", r' \\1 ', str(s))\n",
        "    s = re.sub(' +', ' ', str(s))\n",
        "    return s\n",
        "\n",
        "text_data = [pad_punctuation(x) for  x in filtered_data]"
      ],
      "metadata": {
        "id": "RsUvDvGNdqVT"
      },
      "execution_count": 3,
      "outputs": []
    },
    {
      "cell_type": "code",
      "source": [
        "#convert text_data to tensorflow dataset\n",
        "text_data=pd.DataFrame(text_data,columns=[\"data\"])\n",
        "text_ds = tf.data.Dataset.from_tensor_slices(text_data[\"data\"]).batch(32).shuffle(1000)\n",
        "text_vec = tf.keras.layers.TextVectorization(\n",
        "    standardize=\"lower\",\n",
        "    max_tokens=10000,\n",
        "    output_sequence_length = 250+1,\n",
        "    output_mode='int',\n",
        ")\n",
        "text_vec.adapt(text_ds)\n",
        "for ele in text_ds:\n",
        "    print(ele)\n",
        "    break"
      ],
      "metadata": {
        "id": "lpMffoKxANPG"
      },
      "execution_count": null,
      "outputs": []
    },
    {
      "cell_type": "code",
      "source": [
        "vocab=text_vec.get_vocabulary()\n",
        "\n",
        "def prepare_inputs(text):\n",
        "    text = tf.expand_dims(text, -1)\n",
        "    tokenized_sentences = text_vec(text)\n",
        "    x = tokenized_sentences[:, :-1]\n",
        "    y = tokenized_sentences[:, 1:]\n",
        "    return x, y\n",
        "train_ds = text_ds.map(prepare_inputs)\n"
      ],
      "metadata": {
        "id": "4FISdMSnBLui"
      },
      "execution_count": 5,
      "outputs": []
    },
    {
      "cell_type": "code",
      "source": [
        "def causal_attention_mask(batch_size, n_dest, n_src, dtype):\n",
        "    i = tf.range(n_dest)[:, None]\n",
        "    j = tf.range(n_src)\n",
        "    m = i >= j - n_src + n_dest\n",
        "    mask = tf.cast(m, dtype)\n",
        "    mask = tf.reshape(mask, [1, n_dest, n_src])\n",
        "    mult = tf.concat(\n",
        "    [tf.expand_dims(batch_size, -1), tf.constant([1, 1], dtype=tf.int32)], 0\n",
        "    )\n",
        "    return tf.tile(mask, mult)\n",
        "np.transpose(causal_attention_mask(1, 10, 10, dtype = tf.int32)[0])"
      ],
      "metadata": {
        "colab": {
          "base_uri": "https://localhost:8080/"
        },
        "id": "w_93qj79trS3",
        "outputId": "acb4b072-81a5-4d00-e6a3-fe68cef71cf1"
      },
      "execution_count": 6,
      "outputs": [
        {
          "output_type": "execute_result",
          "data": {
            "text/plain": [
              "array([[1, 1, 1, 1, 1, 1, 1, 1, 1, 1],\n",
              "       [0, 1, 1, 1, 1, 1, 1, 1, 1, 1],\n",
              "       [0, 0, 1, 1, 1, 1, 1, 1, 1, 1],\n",
              "       [0, 0, 0, 1, 1, 1, 1, 1, 1, 1],\n",
              "       [0, 0, 0, 0, 1, 1, 1, 1, 1, 1],\n",
              "       [0, 0, 0, 0, 0, 1, 1, 1, 1, 1],\n",
              "       [0, 0, 0, 0, 0, 0, 1, 1, 1, 1],\n",
              "       [0, 0, 0, 0, 0, 0, 0, 1, 1, 1],\n",
              "       [0, 0, 0, 0, 0, 0, 0, 0, 1, 1],\n",
              "       [0, 0, 0, 0, 0, 0, 0, 0, 0, 1]], dtype=int32)"
            ]
          },
          "metadata": {},
          "execution_count": 6
        }
      ]
    },
    {
      "cell_type": "code",
      "source": [
        "\n",
        "class TransformerBlock(layers.Layer):\n",
        "    def __init__(self, num_heads, key_dim, embed_dim, ff_dim, dropout_rate=0.1):\n",
        "        super(TransformerBlock, self).__init__()\n",
        "        self.num_heads = num_heads\n",
        "        self.key_dim = key_dim\n",
        "        self.embed_dim = embed_dim\n",
        "        self.ff_dim = ff_dim\n",
        "        self.dropout_rate = dropout_rate\n",
        "        self.attn = layers.MultiHeadAttention(num_heads, key_dim, output_shape = embed_dim, use_bias=False)\n",
        "        self.dropout_1 = layers.Dropout(self.dropout_rate)\n",
        "        self.ln_1 = layers.LayerNormalization(epsilon=1e-6)\n",
        "        self.ffn_1 = layers.Dense(self.ff_dim, activation=\"relu\")\n",
        "        self.ffn_2 = layers.Dense(self.embed_dim)\n",
        "        self.dropout_2 = layers.Dropout(self.dropout_rate)\n",
        "        self.ln_2 = layers.LayerNormalization(epsilon=1e-6)\n",
        "    def call(self, inputs):\n",
        "        input_shape = tf.shape(inputs)\n",
        "        batch_size = input_shape[0]\n",
        "        seq_len = input_shape[1]\n",
        "        causal_mask = causal_attention_mask(batch_size, seq_len, seq_len,\n",
        "        tf.bool)\n",
        "        attention_output, attention_scores = self.attn(inputs, inputs,attention_mask=causal_mask, return_attention_scores=True)\n",
        "        attention_output = self.dropout_1(attention_output)\n",
        "        out1 = self.ln_1(inputs + attention_output)\n",
        "        ffn_1 = self.ffn_1(out1)\n",
        "        ffn_2 = self.ffn_2(ffn_1)\n",
        "        ffn_output = self.dropout_2(ffn_2)\n",
        "        return (self.ln_2(out1 + ffn_output), attention_scores)\n"
      ],
      "metadata": {
        "id": "ZVexgdqcUbWA"
      },
      "execution_count": 7,
      "outputs": []
    },
    {
      "cell_type": "code",
      "source": [
        "class TokenAndPositionEmbedding(layers.Layer):\n",
        "    def __init__(self, maxlen, vocab_size, embed_dim):\n",
        "        super(TokenAndPositionEmbedding, self).__init__()\n",
        "        self.maxlen = maxlen\n",
        "        self.vocab_size =vocab_size\n",
        "        self.embed_dim = embed_dim\n",
        "        self.token_emb = layers.Embedding(input_dim=vocab_size, output_dim=embed_dim)\n",
        "        self.pos_emb = layers.Embedding(input_dim=maxlen, output_dim=embed_dim)\n",
        "    def call(self, x):\n",
        "        maxlen = tf.shape(x)[-1]\n",
        "        positions = tf.range(start=0, limit=maxlen, delta=1)\n",
        "        positions = self.pos_emb(positions)\n",
        "        x = self.token_emb(x)\n",
        "        return x + positions"
      ],
      "metadata": {
        "id": "q3minF_5k0Ic"
      },
      "execution_count": 8,
      "outputs": []
    },
    {
      "cell_type": "code",
      "source": [
        "# MY FIRST GPT MODEL\n",
        "MAX_LEN = 200\n",
        "VOCAB_SIZE = 10000\n",
        "EMBEDDING_DIM = 256\n",
        "N_HEADS = 2\n",
        "KEY_DIM = 256\n",
        "FEED_FORWARD_DIM = 256\n",
        "\n",
        "inputs = layers.Input(shape=(None,), dtype=tf.int32)\n",
        "x = TokenAndPositionEmbedding(MAX_LEN, VOCAB_SIZE, EMBEDDING_DIM)(inputs)\n",
        "x, attention_scores = TransformerBlock(N_HEADS, KEY_DIM, EMBEDDING_DIM,FEED_FORWARD_DIM)(x)\n",
        "x, attention_scores = TransformerBlock(N_HEADS, KEY_DIM, EMBEDDING_DIM,FEED_FORWARD_DIM)(x)\n",
        "x = layers.Dense(128, activation=\"relu\", kernel_initializer=\"he_normal\")(x)\n",
        "outputs = layers.Dense(VOCAB_SIZE, activation = 'softmax')(x)\n",
        "gpt = models.Model(inputs=inputs, outputs=[outputs, attention_scores])\n",
        "gpt.compile(\"adam\", loss=[tf.keras.losses.SparseCategoricalCrossentropy(), None])\n"
      ],
      "metadata": {
        "id": "qRZIQWoeFroh"
      },
      "execution_count": 11,
      "outputs": []
    },
    {
      "cell_type": "code",
      "source": [
        "# print(tf.shape(list(text_ds.as_numpy_iterator())))\n",
        "history = gpt.fit(train_ds, epochs=5, callbacks=[tf.keras.callbacks.ModelCheckpoint(\n",
        "    \"/content/drive/MyDrive/Model_chekpoints_logs/weights_of_first_gpt_model(Recipy_generation)\",\n",
        "    save_weights_only=True,\n",
        "    save_best_only=True,\n",
        "    mode=\"max\",\n",
        "    monitor=\"accuracy\")])"
      ],
      "metadata": {
        "colab": {
          "base_uri": "https://localhost:8080/"
        },
        "id": "qujE4ArQG8ui",
        "outputId": "a620a0d9-ab40-4327-8815-60af7f198a58"
      },
      "execution_count": 12,
      "outputs": [
        {
          "output_type": "stream",
          "name": "stdout",
          "text": [
            "Epoch 1/5\n",
            "629/629 [==============================] - ETA: 0s - loss: 2.3536 - dense_11_loss: 2.3536"
          ]
        },
        {
          "output_type": "stream",
          "name": "stderr",
          "text": [
            "WARNING:tensorflow:Can save best model only with accuracy available, skipping.\n"
          ]
        },
        {
          "output_type": "stream",
          "name": "stdout",
          "text": [
            "\b\b\b\b\b\b\b\b\b\b\b\b\b\b\b\b\b\b\b\b\b\b\b\b\b\b\b\b\b\b\b\b\b\b\b\b\b\b\b\b\b\b\b\b\b\b\b\b\b\b\b\b\b\b\b\b\b\b\b\b\b\b\b\b\b\b\b\b\b\b\b\b\b\b\b\b\b\b\b\b\b\b\b\b\b\b\b\b\b\r629/629 [==============================] - 86s 125ms/step - loss: 2.3536 - dense_11_loss: 2.3536\n",
            "Epoch 2/5\n",
            "629/629 [==============================] - ETA: 0s - loss: 1.6567 - dense_11_loss: 1.6567"
          ]
        },
        {
          "output_type": "stream",
          "name": "stderr",
          "text": [
            "WARNING:tensorflow:Can save best model only with accuracy available, skipping.\n"
          ]
        },
        {
          "output_type": "stream",
          "name": "stdout",
          "text": [
            "\b\b\b\b\b\b\b\b\b\b\b\b\b\b\b\b\b\b\b\b\b\b\b\b\b\b\b\b\b\b\b\b\b\b\b\b\b\b\b\b\b\b\b\b\b\b\b\b\b\b\b\b\b\b\b\b\b\b\b\b\b\b\b\b\b\b\b\b\b\b\b\b\b\b\b\b\b\b\b\b\b\b\b\b\b\b\b\b\b\r629/629 [==============================] - 55s 88ms/step - loss: 1.6567 - dense_11_loss: 1.6567\n",
            "Epoch 3/5\n",
            "629/629 [==============================] - ETA: 0s - loss: 1.5050 - dense_11_loss: 1.5050"
          ]
        },
        {
          "output_type": "stream",
          "name": "stderr",
          "text": [
            "WARNING:tensorflow:Can save best model only with accuracy available, skipping.\n"
          ]
        },
        {
          "output_type": "stream",
          "name": "stdout",
          "text": [
            "\b\b\b\b\b\b\b\b\b\b\b\b\b\b\b\b\b\b\b\b\b\b\b\b\b\b\b\b\b\b\b\b\b\b\b\b\b\b\b\b\b\b\b\b\b\b\b\b\b\b\b\b\b\b\b\b\b\b\b\b\b\b\b\b\b\b\b\b\b\b\b\b\b\b\b\b\b\b\b\b\b\b\b\b\b\b\b\b\b\r629/629 [==============================] - 53s 84ms/step - loss: 1.5050 - dense_11_loss: 1.5050\n",
            "Epoch 4/5\n",
            "629/629 [==============================] - ETA: 0s - loss: 1.4215 - dense_11_loss: 1.4215"
          ]
        },
        {
          "output_type": "stream",
          "name": "stderr",
          "text": [
            "WARNING:tensorflow:Can save best model only with accuracy available, skipping.\n"
          ]
        },
        {
          "output_type": "stream",
          "name": "stdout",
          "text": [
            "\b\b\b\b\b\b\b\b\b\b\b\b\b\b\b\b\b\b\b\b\b\b\b\b\b\b\b\b\b\b\b\b\b\b\b\b\b\b\b\b\b\b\b\b\b\b\b\b\b\b\b\b\b\b\b\b\b\b\b\b\b\b\b\b\b\b\b\b\b\b\b\b\b\b\b\b\b\b\b\b\b\b\b\b\b\b\b\b\b\r629/629 [==============================] - 53s 84ms/step - loss: 1.4215 - dense_11_loss: 1.4215\n",
            "Epoch 5/5\n",
            "629/629 [==============================] - ETA: 0s - loss: 1.3629 - dense_11_loss: 1.3629"
          ]
        },
        {
          "output_type": "stream",
          "name": "stderr",
          "text": [
            "WARNING:tensorflow:Can save best model only with accuracy available, skipping.\n"
          ]
        },
        {
          "output_type": "stream",
          "name": "stdout",
          "text": [
            "\b\b\b\b\b\b\b\b\b\b\b\b\b\b\b\b\b\b\b\b\b\b\b\b\b\b\b\b\b\b\b\b\b\b\b\b\b\b\b\b\b\b\b\b\b\b\b\b\b\b\b\b\b\b\b\b\b\b\b\b\b\b\b\b\b\b\b\b\b\b\b\b\b\b\b\b\b\b\b\b\b\b\b\b\b\b\b\b\b\r629/629 [==============================] - 53s 85ms/step - loss: 1.3629 - dense_11_loss: 1.3629\n"
          ]
        }
      ]
    },
    {
      "cell_type": "code",
      "source": [
        "class TextGenerator(tf.keras.callbacks.Callback):\n",
        "    def __init__(self, model, index_to_word, top_k=10):\n",
        "        self.index_to_word = index_to_word\n",
        "        self.model=model\n",
        "        self.word_to_index = {word: index for index, word in\n",
        "        enumerate(index_to_word)}\n",
        "\n",
        "    def sample_from(self, probs, temperature):\n",
        "        probs = probs ** (1 / (temperature+0.0001))\n",
        "        probs = probs / np.sum(probs)\n",
        "        return np.random.choice(len(probs), p=probs), probs\n",
        "    def generate(self, start_prompt, max_tokens, temperature):\n",
        "        start_tokens = [self.word_to_index.get(x, 1) for x in start_prompt.split()]\n",
        "        sample_token = None\n",
        "        info = []\n",
        "        while len(start_tokens) < max_tokens and sample_token != 0:\n",
        "            x = np.array([start_tokens])\n",
        "            y = self.model.predict(x)\n",
        "            sample_token, probs = self.sample_from(y[0][0][-1], temperature)\n",
        "            info.append({'prompt': start_prompt , 'word_probs': probs})\n",
        "            start_tokens.append(sample_token)\n",
        "            start_prompt = start_prompt + ' ' + self.index_to_word[sample_token]\n",
        "            print(f\"\\ngenerated text:\\n{start_prompt}\\n\")\n",
        "        return info\n",
        "    def on_epoch_end(self, epoch, logs=None):\n",
        "        self.generate(\"recipe for\", max_tokens = 100, temperature = 1.0)"
      ],
      "metadata": {
        "colab": {
          "base_uri": "https://localhost:8080/",
          "height": 17
        },
        "id": "EiNm8iYNAjD9",
        "outputId": "e127d12e-d08a-4e52-938a-5a367459f969"
      },
      "execution_count": 60,
      "outputs": [
        {
          "output_type": "display_data",
          "data": {
            "text/plain": [
              "<IPython.core.display.HTML object>"
            ],
            "text/html": [
              "<style>table.dataframe td{white-space: nowrap;}</style>"
            ]
          },
          "metadata": {}
        },
        {
          "output_type": "display_data",
          "data": {
            "text/plain": [
              "<IPython.core.display.HTML object>"
            ],
            "text/html": [
              "<style>table.dataframe td{white-space: nowrap;}</style>"
            ]
          },
          "metadata": {}
        },
        {
          "output_type": "display_data",
          "data": {
            "text/plain": [
              "<IPython.core.display.HTML object>"
            ],
            "text/html": [
              "\n",
              "  <style>\n",
              "    pre {\n",
              "        white-space: pre-wrap;\n",
              "    }\n",
              "  </style>\n",
              "  "
            ]
          },
          "metadata": {}
        },
        {
          "output_type": "display_data",
          "data": {
            "text/plain": [
              "<IPython.core.display.HTML object>"
            ],
            "text/html": [
              "\n",
              "  <style>\n",
              "    pre {\n",
              "        white-space: pre-wrap;\n",
              "    }\n",
              "  </style>\n",
              "  "
            ]
          },
          "metadata": {}
        }
      ]
    },
    {
      "cell_type": "code",
      "source": [
        "text_generator = TextGenerator(gpt, text_vec.get_vocabulary())"
      ],
      "metadata": {
        "colab": {
          "base_uri": "https://localhost:8080/",
          "height": 17
        },
        "id": "sOycTv3SFCUq",
        "outputId": "49d5cde2-7a52-453b-877c-3be18e705b38"
      },
      "execution_count": 61,
      "outputs": [
        {
          "output_type": "display_data",
          "data": {
            "text/plain": [
              "<IPython.core.display.HTML object>"
            ],
            "text/html": [
              "<style>table.dataframe td{white-space: nowrap;}</style>"
            ]
          },
          "metadata": {}
        },
        {
          "output_type": "display_data",
          "data": {
            "text/plain": [
              "<IPython.core.display.HTML object>"
            ],
            "text/html": [
              "<style>table.dataframe td{white-space: nowrap;}</style>"
            ]
          },
          "metadata": {}
        },
        {
          "output_type": "display_data",
          "data": {
            "text/plain": [
              "<IPython.core.display.HTML object>"
            ],
            "text/html": [
              "\n",
              "  <style>\n",
              "    pre {\n",
              "        white-space: pre-wrap;\n",
              "    }\n",
              "  </style>\n",
              "  "
            ]
          },
          "metadata": {}
        },
        {
          "output_type": "display_data",
          "data": {
            "text/plain": [
              "<IPython.core.display.HTML object>"
            ],
            "text/html": [
              "\n",
              "  <style>\n",
              "    pre {\n",
              "        white-space: pre-wrap;\n",
              "    }\n",
              "  </style>\n",
              "  "
            ]
          },
          "metadata": {}
        }
      ]
    },
    {
      "cell_type": "code",
      "source": [
        "from IPython.display import HTML, display\n",
        "\n",
        "def set_css():\n",
        "  display(HTML('''\n",
        "  <style>\n",
        "    pre {\n",
        "        white-space: pre-wrap;\n",
        "    }\n",
        "  </style>\n",
        "  '''))\n",
        "get_ipython().events.register('pre_run_cell', set_css)"
      ],
      "metadata": {
        "colab": {
          "base_uri": "https://localhost:8080/",
          "height": 17
        },
        "id": "GUkYZeXVIkBb",
        "outputId": "e14e0e77-876c-4ff5-fa3d-f7745b85f59f"
      },
      "execution_count": 62,
      "outputs": [
        {
          "output_type": "display_data",
          "data": {
            "text/plain": [
              "<IPython.core.display.HTML object>"
            ],
            "text/html": [
              "<style>table.dataframe td{white-space: nowrap;}</style>"
            ]
          },
          "metadata": {}
        },
        {
          "output_type": "display_data",
          "data": {
            "text/plain": [
              "<IPython.core.display.HTML object>"
            ],
            "text/html": [
              "<style>table.dataframe td{white-space: nowrap;}</style>"
            ]
          },
          "metadata": {}
        },
        {
          "output_type": "display_data",
          "data": {
            "text/plain": [
              "<IPython.core.display.HTML object>"
            ],
            "text/html": [
              "\n",
              "  <style>\n",
              "    pre {\n",
              "        white-space: pre-wrap;\n",
              "    }\n",
              "  </style>\n",
              "  "
            ]
          },
          "metadata": {}
        },
        {
          "output_type": "display_data",
          "data": {
            "text/plain": [
              "<IPython.core.display.HTML object>"
            ],
            "text/html": [
              "\n",
              "  <style>\n",
              "    pre {\n",
              "        white-space: pre-wrap;\n",
              "    }\n",
              "  </style>\n",
              "  "
            ]
          },
          "metadata": {}
        }
      ]
    },
    {
      "cell_type": "code",
      "source": [
        "\n",
        "info = text_generator.generate(\"recipe for \", max_tokens=150, temperature=0.5)"
      ],
      "metadata": {
        "colab": {
          "base_uri": "https://localhost:8080/",
          "height": 1000
        },
        "id": "dXtE_gGaFPeq",
        "outputId": "bb1cba41-14f5-4e2c-d83f-010eb6915fb5"
      },
      "execution_count": 64,
      "outputs": [
        {
          "output_type": "display_data",
          "data": {
            "text/plain": [
              "<IPython.core.display.HTML object>"
            ],
            "text/html": [
              "<style>table.dataframe td{white-space: nowrap;}</style>"
            ]
          },
          "metadata": {}
        },
        {
          "output_type": "display_data",
          "data": {
            "text/plain": [
              "<IPython.core.display.HTML object>"
            ],
            "text/html": [
              "<style>table.dataframe td{white-space: nowrap;}</style>"
            ]
          },
          "metadata": {}
        },
        {
          "output_type": "display_data",
          "data": {
            "text/plain": [
              "<IPython.core.display.HTML object>"
            ],
            "text/html": [
              "\n",
              "  <style>\n",
              "    pre {\n",
              "        white-space: pre-wrap;\n",
              "    }\n",
              "  </style>\n",
              "  "
            ]
          },
          "metadata": {}
        },
        {
          "output_type": "display_data",
          "data": {
            "text/plain": [
              "<IPython.core.display.HTML object>"
            ],
            "text/html": [
              "\n",
              "  <style>\n",
              "    pre {\n",
              "        white-space: pre-wrap;\n",
              "    }\n",
              "  </style>\n",
              "  "
            ]
          },
          "metadata": {}
        },
        {
          "output_type": "display_data",
          "data": {
            "text/plain": [
              "<IPython.core.display.HTML object>"
            ],
            "text/html": [
              "\n",
              "  <style>\n",
              "    pre {\n",
              "        white-space: pre-wrap;\n",
              "    }\n",
              "  </style>\n",
              "  "
            ]
          },
          "metadata": {}
        },
        {
          "output_type": "stream",
          "name": "stdout",
          "text": [
            "1/1 [==============================] - 0s 44ms/step\n",
            "\n",
            "generated text:\n",
            "recipe for  grilled\n",
            "\n",
            "1/1 [==============================] - 0s 55ms/step\n",
            "\n",
            "generated text:\n",
            "recipe for  grilled halibut\n",
            "\n",
            "1/1 [==============================] - 0s 56ms/step\n",
            "\n",
            "generated text:\n",
            "recipe for  grilled halibut with\n",
            "\n",
            "1/1 [==============================] - 0s 39ms/step\n",
            "\n",
            "generated text:\n",
            "recipe for  grilled halibut with tomato\n",
            "\n",
            "1/1 [==============================] - 0s 44ms/step\n",
            "\n",
            "generated text:\n",
            "recipe for  grilled halibut with tomato and\n",
            "\n",
            "1/1 [==============================] - 0s 23ms/step\n",
            "\n",
            "generated text:\n",
            "recipe for  grilled halibut with tomato and onion\n",
            "\n",
            "1/1 [==============================] - 0s 23ms/step\n",
            "\n",
            "generated text:\n",
            "recipe for  grilled halibut with tomato and onion |\n",
            "\n",
            "1/1 [==============================] - 0s 21ms/step\n",
            "\n",
            "generated text:\n",
            "recipe for  grilled halibut with tomato and onion | prepare\n",
            "\n",
            "1/1 [==============================] - 0s 27ms/step\n",
            "\n",
            "generated text:\n",
            "recipe for  grilled halibut with tomato and onion | prepare grill\n",
            "\n",
            "1/1 [==============================] - 0s 22ms/step\n",
            "\n",
            "generated text:\n",
            "recipe for  grilled halibut with tomato and onion | prepare grill for\n",
            "\n",
            "1/1 [==============================] - 0s 21ms/step\n",
            "\n",
            "generated text:\n",
            "recipe for  grilled halibut with tomato and onion | prepare grill for cooking\n",
            "\n",
            "1/1 [==============================] - 0s 23ms/step\n",
            "\n",
            "generated text:\n",
            "recipe for  grilled halibut with tomato and onion | prepare grill for cooking over\n",
            "\n",
            "1/1 [==============================] - 0s 25ms/step\n",
            "\n",
            "generated text:\n",
            "recipe for  grilled halibut with tomato and onion | prepare grill for cooking over hot\n",
            "\n",
            "1/1 [==============================] - 0s 29ms/step\n",
            "\n",
            "generated text:\n",
            "recipe for  grilled halibut with tomato and onion | prepare grill for cooking over hot charcoal\n",
            "\n",
            "1/1 [==============================] - 0s 40ms/step\n",
            "\n",
            "generated text:\n",
            "recipe for  grilled halibut with tomato and onion | prepare grill for cooking over hot charcoal (\n",
            "\n",
            "1/1 [==============================] - 0s 25ms/step\n",
            "\n",
            "generated text:\n",
            "recipe for  grilled halibut with tomato and onion | prepare grill for cooking over hot charcoal ( gas\n",
            "\n",
            "1/1 [==============================] - 0s 27ms/step\n",
            "\n",
            "generated text:\n",
            "recipe for  grilled halibut with tomato and onion | prepare grill for cooking over hot charcoal ( gas )\n",
            "\n",
            "1/1 [==============================] - 0s 23ms/step\n",
            "\n",
            "generated text:\n",
            "recipe for  grilled halibut with tomato and onion | prepare grill for cooking over hot charcoal ( gas ) .\n",
            "\n",
            "1/1 [==============================] - 0s 21ms/step\n",
            "\n",
            "generated text:\n",
            "recipe for  grilled halibut with tomato and onion | prepare grill for cooking over hot charcoal ( gas ) . using\n",
            "\n",
            "1/1 [==============================] - 0s 22ms/step\n",
            "\n",
            "generated text:\n",
            "recipe for  grilled halibut with tomato and onion | prepare grill for cooking over hot charcoal ( gas ) . using a\n",
            "\n",
            "1/1 [==============================] - 0s 23ms/step\n",
            "\n",
            "generated text:\n",
            "recipe for  grilled halibut with tomato and onion | prepare grill for cooking over hot charcoal ( gas ) . using a gas\n",
            "\n",
            "1/1 [==============================] - 0s 29ms/step\n",
            "\n",
            "generated text:\n",
            "recipe for  grilled halibut with tomato and onion | prepare grill for cooking over hot charcoal ( gas ) . using a gas grill\n",
            "\n",
            "1/1 [==============================] - 0s 23ms/step\n",
            "\n",
            "generated text:\n",
            "recipe for  grilled halibut with tomato and onion | prepare grill for cooking over hot charcoal ( gas ) . using a gas grill ,\n",
            "\n",
            "1/1 [==============================] - 0s 24ms/step\n",
            "\n",
            "generated text:\n",
            "recipe for  grilled halibut with tomato and onion | prepare grill for cooking over hot charcoal ( gas ) . using a gas grill , turning\n",
            "\n",
            "1/1 [==============================] - 0s 21ms/step\n",
            "\n",
            "generated text:\n",
            "recipe for  grilled halibut with tomato and onion | prepare grill for cooking over hot charcoal ( gas ) . using a gas grill , turning over\n",
            "\n",
            "1/1 [==============================] - 0s 23ms/step\n",
            "\n",
            "generated text:\n",
            "recipe for  grilled halibut with tomato and onion | prepare grill for cooking over hot charcoal ( gas ) . using a gas grill , turning over once\n",
            "\n",
            "1/1 [==============================] - 0s 31ms/step\n",
            "\n",
            "generated text:\n",
            "recipe for  grilled halibut with tomato and onion | prepare grill for cooking over hot charcoal ( gas ) . using a gas grill , turning over once ,\n",
            "\n",
            "1/1 [==============================] - 0s 21ms/step\n",
            "\n",
            "generated text:\n",
            "recipe for  grilled halibut with tomato and onion | prepare grill for cooking over hot charcoal ( gas ) . using a gas grill , turning over once , until\n",
            "\n",
            "1/1 [==============================] - 0s 25ms/step\n",
            "\n",
            "generated text:\n",
            "recipe for  grilled halibut with tomato and onion | prepare grill for cooking over hot charcoal ( gas ) . using a gas grill , turning over once , until lightly\n",
            "\n",
            "1/1 [==============================] - 0s 24ms/step\n",
            "\n",
            "generated text:\n",
            "recipe for  grilled halibut with tomato and onion | prepare grill for cooking over hot charcoal ( gas ) . using a gas grill , turning over once , until lightly charred\n",
            "\n",
            "1/1 [==============================] - 0s 37ms/step\n",
            "\n",
            "generated text:\n",
            "recipe for  grilled halibut with tomato and onion | prepare grill for cooking over hot charcoal ( gas ) . using a gas grill , turning over once , until lightly charred and\n",
            "\n",
            "1/1 [==============================] - 0s 34ms/step\n",
            "\n",
            "generated text:\n",
            "recipe for  grilled halibut with tomato and onion | prepare grill for cooking over hot charcoal ( gas ) . using a gas grill , turning over once , until lightly charred and just\n",
            "\n",
            "1/1 [==============================] - 0s 32ms/step\n",
            "\n",
            "generated text:\n",
            "recipe for  grilled halibut with tomato and onion | prepare grill for cooking over hot charcoal ( gas ) . using a gas grill , turning over once , until lightly charred and just tender\n",
            "\n",
            "1/1 [==============================] - 0s 42ms/step\n",
            "\n",
            "generated text:\n",
            "recipe for  grilled halibut with tomato and onion | prepare grill for cooking over hot charcoal ( gas ) . using a gas grill , turning over once , until lightly charred and just tender ,\n",
            "\n",
            "1/1 [==============================] - 0s 35ms/step\n",
            "\n",
            "generated text:\n",
            "recipe for  grilled halibut with tomato and onion | prepare grill for cooking over hot charcoal ( gas ) . using a gas grill , turning over once , until lightly charred and just tender , about\n",
            "\n",
            "1/1 [==============================] - 0s 30ms/step\n",
            "\n",
            "generated text:\n",
            "recipe for  grilled halibut with tomato and onion | prepare grill for cooking over hot charcoal ( gas ) . using a gas grill , turning over once , until lightly charred and just tender , about 6\n",
            "\n",
            "1/1 [==============================] - 0s 34ms/step\n",
            "\n",
            "generated text:\n",
            "recipe for  grilled halibut with tomato and onion | prepare grill for cooking over hot charcoal ( gas ) . using a gas grill , turning over once , until lightly charred and just tender , about 6 minutes\n",
            "\n",
            "1/1 [==============================] - 0s 32ms/step\n",
            "\n",
            "generated text:\n",
            "recipe for  grilled halibut with tomato and onion | prepare grill for cooking over hot charcoal ( gas ) . using a gas grill , turning over once , until lightly charred and just tender , about 6 minutes .\n",
            "\n",
            "1/1 [==============================] - 0s 39ms/step\n",
            "\n",
            "generated text:\n",
            "recipe for  grilled halibut with tomato and onion | prepare grill for cooking over hot charcoal ( gas ) . using a gas grill , turning over once , until lightly charred and just tender , about 6 minutes . transfer\n",
            "\n",
            "1/1 [==============================] - 0s 32ms/step\n",
            "\n",
            "generated text:\n",
            "recipe for  grilled halibut with tomato and onion | prepare grill for cooking over hot charcoal ( gas ) . using a gas grill , turning over once , until lightly charred and just tender , about 6 minutes . transfer to\n",
            "\n",
            "1/1 [==============================] - 0s 32ms/step\n",
            "\n",
            "generated text:\n",
            "recipe for  grilled halibut with tomato and onion | prepare grill for cooking over hot charcoal ( gas ) . using a gas grill , turning over once , until lightly charred and just tender , about 6 minutes . transfer to a\n",
            "\n",
            "1/1 [==============================] - 0s 35ms/step\n",
            "\n",
            "generated text:\n",
            "recipe for  grilled halibut with tomato and onion | prepare grill for cooking over hot charcoal ( gas ) . using a gas grill , turning over once , until lightly charred and just tender , about 6 minutes . transfer to a bowl\n",
            "\n",
            "1/1 [==============================] - 0s 34ms/step\n",
            "\n",
            "generated text:\n",
            "recipe for  grilled halibut with tomato and onion | prepare grill for cooking over hot charcoal ( gas ) . using a gas grill , turning over once , until lightly charred and just tender , about 6 minutes . transfer to a bowl of\n",
            "\n",
            "1/1 [==============================] - 0s 33ms/step\n",
            "\n",
            "generated text:\n",
            "recipe for  grilled halibut with tomato and onion | prepare grill for cooking over hot charcoal ( gas ) . using a gas grill , turning over once , until lightly charred and just tender , about 6 minutes . transfer to a bowl of ice\n",
            "\n",
            "1/1 [==============================] - 0s 45ms/step\n",
            "\n",
            "generated text:\n",
            "recipe for  grilled halibut with tomato and onion | prepare grill for cooking over hot charcoal ( gas ) . using a gas grill , turning over once , until lightly charred and just tender , about 6 minutes . transfer to a bowl of ice water\n",
            "\n",
            "1/1 [==============================] - 0s 34ms/step\n",
            "\n",
            "generated text:\n",
            "recipe for  grilled halibut with tomato and onion | prepare grill for cooking over hot charcoal ( gas ) . using a gas grill , turning over once , until lightly charred and just tender , about 6 minutes . transfer to a bowl of ice water .\n",
            "\n",
            "1/1 [==============================] - 0s 38ms/step\n",
            "\n",
            "generated text:\n",
            "recipe for  grilled halibut with tomato and onion | prepare grill for cooking over hot charcoal ( gas ) . using a gas grill , turning over once , until lightly charred and just tender , about 6 minutes . transfer to a bowl of ice water . pat\n",
            "\n",
            "1/1 [==============================] - 0s 34ms/step\n",
            "\n",
            "generated text:\n",
            "recipe for  grilled halibut with tomato and onion | prepare grill for cooking over hot charcoal ( gas ) . using a gas grill , turning over once , until lightly charred and just tender , about 6 minutes . transfer to a bowl of ice water . pat dry\n",
            "\n",
            "1/1 [==============================] - 0s 36ms/step\n",
            "\n",
            "generated text:\n",
            "recipe for  grilled halibut with tomato and onion | prepare grill for cooking over hot charcoal ( gas ) . using a gas grill , turning over once , until lightly charred and just tender , about 6 minutes . transfer to a bowl of ice water . pat dry ,\n",
            "\n",
            "1/1 [==============================] - 0s 41ms/step\n",
            "\n",
            "generated text:\n",
            "recipe for  grilled halibut with tomato and onion | prepare grill for cooking over hot charcoal ( gas ) . using a gas grill , turning over once , until lightly charred and just tender , about 6 minutes . transfer to a bowl of ice water . pat dry , then\n",
            "\n",
            "1/1 [==============================] - 0s 36ms/step\n",
            "\n",
            "generated text:\n",
            "recipe for  grilled halibut with tomato and onion | prepare grill for cooking over hot charcoal ( gas ) . using a gas grill , turning over once , until lightly charred and just tender , about 6 minutes . transfer to a bowl of ice water . pat dry , then cut\n",
            "\n",
            "1/1 [==============================] - 0s 35ms/step\n",
            "\n",
            "generated text:\n",
            "recipe for  grilled halibut with tomato and onion | prepare grill for cooking over hot charcoal ( gas ) . using a gas grill , turning over once , until lightly charred and just tender , about 6 minutes . transfer to a bowl of ice water . pat dry , then cut each\n",
            "\n",
            "1/1 [==============================] - 0s 35ms/step\n",
            "\n",
            "generated text:\n",
            "recipe for  grilled halibut with tomato and onion | prepare grill for cooking over hot charcoal ( gas ) . using a gas grill , turning over once , until lightly charred and just tender , about 6 minutes . transfer to a bowl of ice water . pat dry , then cut each fillet\n",
            "\n",
            "1/1 [==============================] - 0s 34ms/step\n",
            "\n",
            "generated text:\n",
            "recipe for  grilled halibut with tomato and onion | prepare grill for cooking over hot charcoal ( gas ) . using a gas grill , turning over once , until lightly charred and just tender , about 6 minutes . transfer to a bowl of ice water . pat dry , then cut each fillet into\n",
            "\n",
            "1/1 [==============================] - 0s 39ms/step\n",
            "\n",
            "generated text:\n",
            "recipe for  grilled halibut with tomato and onion | prepare grill for cooking over hot charcoal ( gas ) . using a gas grill , turning over once , until lightly charred and just tender , about 6 minutes . transfer to a bowl of ice water . pat dry , then cut each fillet into 1\n",
            "\n",
            "1/1 [==============================] - 0s 42ms/step\n",
            "\n",
            "generated text:\n",
            "recipe for  grilled halibut with tomato and onion | prepare grill for cooking over hot charcoal ( gas ) . using a gas grill , turning over once , until lightly charred and just tender , about 6 minutes . transfer to a bowl of ice water . pat dry , then cut each fillet into 1 /\n",
            "\n",
            "1/1 [==============================] - 0s 38ms/step\n",
            "\n",
            "generated text:\n",
            "recipe for  grilled halibut with tomato and onion | prepare grill for cooking over hot charcoal ( gas ) . using a gas grill , turning over once , until lightly charred and just tender , about 6 minutes . transfer to a bowl of ice water . pat dry , then cut each fillet into 1 / 2\n",
            "\n",
            "1/1 [==============================] - 0s 33ms/step\n",
            "\n",
            "generated text:\n",
            "recipe for  grilled halibut with tomato and onion | prepare grill for cooking over hot charcoal ( gas ) . using a gas grill , turning over once , until lightly charred and just tender , about 6 minutes . transfer to a bowl of ice water . pat dry , then cut each fillet into 1 / 2 -\n",
            "\n",
            "1/1 [==============================] - 0s 31ms/step\n",
            "\n",
            "generated text:\n",
            "recipe for  grilled halibut with tomato and onion | prepare grill for cooking over hot charcoal ( gas ) . using a gas grill , turning over once , until lightly charred and just tender , about 6 minutes . transfer to a bowl of ice water . pat dry , then cut each fillet into 1 / 2 - inch\n",
            "\n",
            "1/1 [==============================] - 0s 33ms/step\n",
            "\n",
            "generated text:\n",
            "recipe for  grilled halibut with tomato and onion | prepare grill for cooking over hot charcoal ( gas ) . using a gas grill , turning over once , until lightly charred and just tender , about 6 minutes . transfer to a bowl of ice water . pat dry , then cut each fillet into 1 / 2 - inch -\n",
            "\n",
            "1/1 [==============================] - 0s 33ms/step\n",
            "\n",
            "generated text:\n",
            "recipe for  grilled halibut with tomato and onion | prepare grill for cooking over hot charcoal ( gas ) . using a gas grill , turning over once , until lightly charred and just tender , about 6 minutes . transfer to a bowl of ice water . pat dry , then cut each fillet into 1 / 2 - inch - thick\n",
            "\n",
            "1/1 [==============================] - 0s 33ms/step\n",
            "\n",
            "generated text:\n",
            "recipe for  grilled halibut with tomato and onion | prepare grill for cooking over hot charcoal ( gas ) . using a gas grill , turning over once , until lightly charred and just tender , about 6 minutes . transfer to a bowl of ice water . pat dry , then cut each fillet into 1 / 2 - inch - thick slices\n",
            "\n",
            "1/1 [==============================] - 0s 51ms/step\n",
            "\n",
            "generated text:\n",
            "recipe for  grilled halibut with tomato and onion | prepare grill for cooking over hot charcoal ( gas ) . using a gas grill , turning over once , until lightly charred and just tender , about 6 minutes . transfer to a bowl of ice water . pat dry , then cut each fillet into 1 / 2 - inch - thick slices .\n",
            "\n",
            "1/1 [==============================] - 0s 38ms/step\n",
            "\n",
            "generated text:\n",
            "recipe for  grilled halibut with tomato and onion | prepare grill for cooking over hot charcoal ( gas ) . using a gas grill , turning over once , until lightly charred and just tender , about 6 minutes . transfer to a bowl of ice water . pat dry , then cut each fillet into 1 / 2 - inch - thick slices . cut\n",
            "\n",
            "1/1 [==============================] - 0s 39ms/step\n",
            "\n",
            "generated text:\n",
            "recipe for  grilled halibut with tomato and onion | prepare grill for cooking over hot charcoal ( gas ) . using a gas grill , turning over once , until lightly charred and just tender , about 6 minutes . transfer to a bowl of ice water . pat dry , then cut each fillet into 1 / 2 - inch - thick slices . cut each\n",
            "\n",
            "1/1 [==============================] - 0s 35ms/step\n",
            "\n",
            "generated text:\n",
            "recipe for  grilled halibut with tomato and onion | prepare grill for cooking over hot charcoal ( gas ) . using a gas grill , turning over once , until lightly charred and just tender , about 6 minutes . transfer to a bowl of ice water . pat dry , then cut each fillet into 1 / 2 - inch - thick slices . cut each skewer\n",
            "\n",
            "1/1 [==============================] - 0s 33ms/step\n",
            "\n",
            "generated text:\n",
            "recipe for  grilled halibut with tomato and onion | prepare grill for cooking over hot charcoal ( gas ) . using a gas grill , turning over once , until lightly charred and just tender , about 6 minutes . transfer to a bowl of ice water . pat dry , then cut each fillet into 1 / 2 - inch - thick slices . cut each skewer lengthwise\n",
            "\n",
            "1/1 [==============================] - 0s 37ms/step\n",
            "\n",
            "generated text:\n",
            "recipe for  grilled halibut with tomato and onion | prepare grill for cooking over hot charcoal ( gas ) . using a gas grill , turning over once , until lightly charred and just tender , about 6 minutes . transfer to a bowl of ice water . pat dry , then cut each fillet into 1 / 2 - inch - thick slices . cut each skewer lengthwise into\n",
            "\n",
            "1/1 [==============================] - 0s 37ms/step\n",
            "\n",
            "generated text:\n",
            "recipe for  grilled halibut with tomato and onion | prepare grill for cooking over hot charcoal ( gas ) . using a gas grill , turning over once , until lightly charred and just tender , about 6 minutes . transfer to a bowl of ice water . pat dry , then cut each fillet into 1 / 2 - inch - thick slices . cut each skewer lengthwise into 1\n",
            "\n",
            "1/1 [==============================] - 0s 22ms/step\n",
            "\n",
            "generated text:\n",
            "recipe for  grilled halibut with tomato and onion | prepare grill for cooking over hot charcoal ( gas ) . using a gas grill , turning over once , until lightly charred and just tender , about 6 minutes . transfer to a bowl of ice water . pat dry , then cut each fillet into 1 / 2 - inch - thick slices . cut each skewer lengthwise into 1 /\n",
            "\n",
            "1/1 [==============================] - 0s 23ms/step\n",
            "\n",
            "generated text:\n",
            "recipe for  grilled halibut with tomato and onion | prepare grill for cooking over hot charcoal ( gas ) . using a gas grill , turning over once , until lightly charred and just tender , about 6 minutes . transfer to a bowl of ice water . pat dry , then cut each fillet into 1 / 2 - inch - thick slices . cut each skewer lengthwise into 1 / 2\n",
            "\n",
            "1/1 [==============================] - 0s 22ms/step\n",
            "\n",
            "generated text:\n",
            "recipe for  grilled halibut with tomato and onion | prepare grill for cooking over hot charcoal ( gas ) . using a gas grill , turning over once , until lightly charred and just tender , about 6 minutes . transfer to a bowl of ice water . pat dry , then cut each fillet into 1 / 2 - inch - thick slices . cut each skewer lengthwise into 1 / 2 -\n",
            "\n",
            "1/1 [==============================] - 0s 26ms/step\n",
            "\n",
            "generated text:\n",
            "recipe for  grilled halibut with tomato and onion | prepare grill for cooking over hot charcoal ( gas ) . using a gas grill , turning over once , until lightly charred and just tender , about 6 minutes . transfer to a bowl of ice water . pat dry , then cut each fillet into 1 / 2 - inch - thick slices . cut each skewer lengthwise into 1 / 2 - inch\n",
            "\n",
            "1/1 [==============================] - 0s 25ms/step\n",
            "\n",
            "generated text:\n",
            "recipe for  grilled halibut with tomato and onion | prepare grill for cooking over hot charcoal ( gas ) . using a gas grill , turning over once , until lightly charred and just tender , about 6 minutes . transfer to a bowl of ice water . pat dry , then cut each fillet into 1 / 2 - inch - thick slices . cut each skewer lengthwise into 1 / 2 - inch pieces\n",
            "\n",
            "1/1 [==============================] - 0s 24ms/step\n",
            "\n",
            "generated text:\n",
            "recipe for  grilled halibut with tomato and onion | prepare grill for cooking over hot charcoal ( gas ) . using a gas grill , turning over once , until lightly charred and just tender , about 6 minutes . transfer to a bowl of ice water . pat dry , then cut each fillet into 1 / 2 - inch - thick slices . cut each skewer lengthwise into 1 / 2 - inch pieces .\n",
            "\n",
            "1/1 [==============================] - 0s 28ms/step\n",
            "\n",
            "generated text:\n",
            "recipe for  grilled halibut with tomato and onion | prepare grill for cooking over hot charcoal ( gas ) . using a gas grill , turning over once , until lightly charred and just tender , about 6 minutes . transfer to a bowl of ice water . pat dry , then cut each fillet into 1 / 2 - inch - thick slices . cut each skewer lengthwise into 1 / 2 - inch pieces . cut\n",
            "\n",
            "1/1 [==============================] - 0s 27ms/step\n",
            "\n",
            "generated text:\n",
            "recipe for  grilled halibut with tomato and onion | prepare grill for cooking over hot charcoal ( gas ) . using a gas grill , turning over once , until lightly charred and just tender , about 6 minutes . transfer to a bowl of ice water . pat dry , then cut each fillet into 1 / 2 - inch - thick slices . cut each skewer lengthwise into 1 / 2 - inch pieces . cut each\n",
            "\n",
            "1/1 [==============================] - 0s 24ms/step\n",
            "\n",
            "generated text:\n",
            "recipe for  grilled halibut with tomato and onion | prepare grill for cooking over hot charcoal ( gas ) . using a gas grill , turning over once , until lightly charred and just tender , about 6 minutes . transfer to a bowl of ice water . pat dry , then cut each fillet into 1 / 2 - inch - thick slices . cut each skewer lengthwise into 1 / 2 - inch pieces . cut each fillet\n",
            "\n",
            "1/1 [==============================] - 0s 27ms/step\n",
            "\n",
            "generated text:\n",
            "recipe for  grilled halibut with tomato and onion | prepare grill for cooking over hot charcoal ( gas ) . using a gas grill , turning over once , until lightly charred and just tender , about 6 minutes . transfer to a bowl of ice water . pat dry , then cut each fillet into 1 / 2 - inch - thick slices . cut each skewer lengthwise into 1 / 2 - inch pieces . cut each fillet into\n",
            "\n",
            "1/1 [==============================] - 0s 24ms/step\n",
            "\n",
            "generated text:\n",
            "recipe for  grilled halibut with tomato and onion | prepare grill for cooking over hot charcoal ( gas ) . using a gas grill , turning over once , until lightly charred and just tender , about 6 minutes . transfer to a bowl of ice water . pat dry , then cut each fillet into 1 / 2 - inch - thick slices . cut each skewer lengthwise into 1 / 2 - inch pieces . cut each fillet into 1\n",
            "\n",
            "1/1 [==============================] - 0s 26ms/step\n",
            "\n",
            "generated text:\n",
            "recipe for  grilled halibut with tomato and onion | prepare grill for cooking over hot charcoal ( gas ) . using a gas grill , turning over once , until lightly charred and just tender , about 6 minutes . transfer to a bowl of ice water . pat dry , then cut each fillet into 1 / 2 - inch - thick slices . cut each skewer lengthwise into 1 / 2 - inch pieces . cut each fillet into 1 /\n",
            "\n",
            "1/1 [==============================] - 0s 28ms/step\n",
            "\n",
            "generated text:\n",
            "recipe for  grilled halibut with tomato and onion | prepare grill for cooking over hot charcoal ( gas ) . using a gas grill , turning over once , until lightly charred and just tender , about 6 minutes . transfer to a bowl of ice water . pat dry , then cut each fillet into 1 / 2 - inch - thick slices . cut each skewer lengthwise into 1 / 2 - inch pieces . cut each fillet into 1 / 2\n",
            "\n",
            "1/1 [==============================] - 0s 29ms/step\n",
            "\n",
            "generated text:\n",
            "recipe for  grilled halibut with tomato and onion | prepare grill for cooking over hot charcoal ( gas ) . using a gas grill , turning over once , until lightly charred and just tender , about 6 minutes . transfer to a bowl of ice water . pat dry , then cut each fillet into 1 / 2 - inch - thick slices . cut each skewer lengthwise into 1 / 2 - inch pieces . cut each fillet into 1 / 2 -\n",
            "\n",
            "1/1 [==============================] - 0s 26ms/step\n",
            "\n",
            "generated text:\n",
            "recipe for  grilled halibut with tomato and onion | prepare grill for cooking over hot charcoal ( gas ) . using a gas grill , turning over once , until lightly charred and just tender , about 6 minutes . transfer to a bowl of ice water . pat dry , then cut each fillet into 1 / 2 - inch - thick slices . cut each skewer lengthwise into 1 / 2 - inch pieces . cut each fillet into 1 / 2 - inch\n",
            "\n",
            "1/1 [==============================] - 0s 24ms/step\n",
            "\n",
            "generated text:\n",
            "recipe for  grilled halibut with tomato and onion | prepare grill for cooking over hot charcoal ( gas ) . using a gas grill , turning over once , until lightly charred and just tender , about 6 minutes . transfer to a bowl of ice water . pat dry , then cut each fillet into 1 / 2 - inch - thick slices . cut each skewer lengthwise into 1 / 2 - inch pieces . cut each fillet into 1 / 2 - inch -\n",
            "\n",
            "1/1 [==============================] - 0s 24ms/step\n",
            "\n",
            "generated text:\n",
            "recipe for  grilled halibut with tomato and onion | prepare grill for cooking over hot charcoal ( gas ) . using a gas grill , turning over once , until lightly charred and just tender , about 6 minutes . transfer to a bowl of ice water . pat dry , then cut each fillet into 1 / 2 - inch - thick slices . cut each skewer lengthwise into 1 / 2 - inch pieces . cut each fillet into 1 / 2 - inch - thick\n",
            "\n",
            "1/1 [==============================] - 0s 27ms/step\n",
            "\n",
            "generated text:\n",
            "recipe for  grilled halibut with tomato and onion | prepare grill for cooking over hot charcoal ( gas ) . using a gas grill , turning over once , until lightly charred and just tender , about 6 minutes . transfer to a bowl of ice water . pat dry , then cut each fillet into 1 / 2 - inch - thick slices . cut each skewer lengthwise into 1 / 2 - inch pieces . cut each fillet into 1 / 2 - inch - thick slices\n",
            "\n",
            "1/1 [==============================] - 0s 22ms/step\n",
            "\n",
            "generated text:\n",
            "recipe for  grilled halibut with tomato and onion | prepare grill for cooking over hot charcoal ( gas ) . using a gas grill , turning over once , until lightly charred and just tender , about 6 minutes . transfer to a bowl of ice water . pat dry , then cut each fillet into 1 / 2 - inch - thick slices . cut each skewer lengthwise into 1 / 2 - inch pieces . cut each fillet into 1 / 2 - inch - thick slices .\n",
            "\n",
            "1/1 [==============================] - 0s 23ms/step\n",
            "\n",
            "generated text:\n",
            "recipe for  grilled halibut with tomato and onion | prepare grill for cooking over hot charcoal ( gas ) . using a gas grill , turning over once , until lightly charred and just tender , about 6 minutes . transfer to a bowl of ice water . pat dry , then cut each fillet into 1 / 2 - inch - thick slices . cut each skewer lengthwise into 1 / 2 - inch pieces . cut each fillet into 1 / 2 - inch - thick slices . arrange\n",
            "\n",
            "1/1 [==============================] - 0s 23ms/step\n",
            "\n",
            "generated text:\n",
            "recipe for  grilled halibut with tomato and onion | prepare grill for cooking over hot charcoal ( gas ) . using a gas grill , turning over once , until lightly charred and just tender , about 6 minutes . transfer to a bowl of ice water . pat dry , then cut each fillet into 1 / 2 - inch - thick slices . cut each skewer lengthwise into 1 / 2 - inch pieces . cut each fillet into 1 / 2 - inch - thick slices . arrange fillets\n",
            "\n",
            "1/1 [==============================] - 0s 24ms/step\n",
            "\n",
            "generated text:\n",
            "recipe for  grilled halibut with tomato and onion | prepare grill for cooking over hot charcoal ( gas ) . using a gas grill , turning over once , until lightly charred and just tender , about 6 minutes . transfer to a bowl of ice water . pat dry , then cut each fillet into 1 / 2 - inch - thick slices . cut each skewer lengthwise into 1 / 2 - inch pieces . cut each fillet into 1 / 2 - inch - thick slices . arrange fillets on\n",
            "\n",
            "1/1 [==============================] - 0s 25ms/step\n",
            "\n",
            "generated text:\n",
            "recipe for  grilled halibut with tomato and onion | prepare grill for cooking over hot charcoal ( gas ) . using a gas grill , turning over once , until lightly charred and just tender , about 6 minutes . transfer to a bowl of ice water . pat dry , then cut each fillet into 1 / 2 - inch - thick slices . cut each skewer lengthwise into 1 / 2 - inch pieces . cut each fillet into 1 / 2 - inch - thick slices . arrange fillets on each\n",
            "\n",
            "1/1 [==============================] - 0s 26ms/step\n",
            "\n",
            "generated text:\n",
            "recipe for  grilled halibut with tomato and onion | prepare grill for cooking over hot charcoal ( gas ) . using a gas grill , turning over once , until lightly charred and just tender , about 6 minutes . transfer to a bowl of ice water . pat dry , then cut each fillet into 1 / 2 - inch - thick slices . cut each skewer lengthwise into 1 / 2 - inch pieces . cut each fillet into 1 / 2 - inch - thick slices . arrange fillets on each plate\n",
            "\n",
            "1/1 [==============================] - 0s 22ms/step\n",
            "\n",
            "generated text:\n",
            "recipe for  grilled halibut with tomato and onion | prepare grill for cooking over hot charcoal ( gas ) . using a gas grill , turning over once , until lightly charred and just tender , about 6 minutes . transfer to a bowl of ice water . pat dry , then cut each fillet into 1 / 2 - inch - thick slices . cut each skewer lengthwise into 1 / 2 - inch pieces . cut each fillet into 1 / 2 - inch - thick slices . arrange fillets on each plate .\n",
            "\n",
            "1/1 [==============================] - 0s 23ms/step\n",
            "\n",
            "generated text:\n",
            "recipe for  grilled halibut with tomato and onion | prepare grill for cooking over hot charcoal ( gas ) . using a gas grill , turning over once , until lightly charred and just tender , about 6 minutes . transfer to a bowl of ice water . pat dry , then cut each fillet into 1 / 2 - inch - thick slices . cut each skewer lengthwise into 1 / 2 - inch pieces . cut each fillet into 1 / 2 - inch - thick slices . arrange fillets on each plate . heat\n",
            "\n",
            "1/1 [==============================] - 0s 23ms/step\n",
            "\n",
            "generated text:\n",
            "recipe for  grilled halibut with tomato and onion | prepare grill for cooking over hot charcoal ( gas ) . using a gas grill , turning over once , until lightly charred and just tender , about 6 minutes . transfer to a bowl of ice water . pat dry , then cut each fillet into 1 / 2 - inch - thick slices . cut each skewer lengthwise into 1 / 2 - inch pieces . cut each fillet into 1 / 2 - inch - thick slices . arrange fillets on each plate . heat oil\n",
            "\n",
            "1/1 [==============================] - 0s 27ms/step\n",
            "\n",
            "generated text:\n",
            "recipe for  grilled halibut with tomato and onion | prepare grill for cooking over hot charcoal ( gas ) . using a gas grill , turning over once , until lightly charred and just tender , about 6 minutes . transfer to a bowl of ice water . pat dry , then cut each fillet into 1 / 2 - inch - thick slices . cut each skewer lengthwise into 1 / 2 - inch pieces . cut each fillet into 1 / 2 - inch - thick slices . arrange fillets on each plate . heat oil in\n",
            "\n",
            "1/1 [==============================] - 0s 26ms/step\n",
            "\n",
            "generated text:\n",
            "recipe for  grilled halibut with tomato and onion | prepare grill for cooking over hot charcoal ( gas ) . using a gas grill , turning over once , until lightly charred and just tender , about 6 minutes . transfer to a bowl of ice water . pat dry , then cut each fillet into 1 / 2 - inch - thick slices . cut each skewer lengthwise into 1 / 2 - inch pieces . cut each fillet into 1 / 2 - inch - thick slices . arrange fillets on each plate . heat oil in a\n",
            "\n",
            "1/1 [==============================] - 0s 23ms/step\n",
            "\n",
            "generated text:\n",
            "recipe for  grilled halibut with tomato and onion | prepare grill for cooking over hot charcoal ( gas ) . using a gas grill , turning over once , until lightly charred and just tender , about 6 minutes . transfer to a bowl of ice water . pat dry , then cut each fillet into 1 / 2 - inch - thick slices . cut each skewer lengthwise into 1 / 2 - inch pieces . cut each fillet into 1 / 2 - inch - thick slices . arrange fillets on each plate . heat oil in a 12\n",
            "\n",
            "1/1 [==============================] - 0s 30ms/step\n",
            "\n",
            "generated text:\n",
            "recipe for  grilled halibut with tomato and onion | prepare grill for cooking over hot charcoal ( gas ) . using a gas grill , turning over once , until lightly charred and just tender , about 6 minutes . transfer to a bowl of ice water . pat dry , then cut each fillet into 1 / 2 - inch - thick slices . cut each skewer lengthwise into 1 / 2 - inch pieces . cut each fillet into 1 / 2 - inch - thick slices . arrange fillets on each plate . heat oil in a 12 -\n",
            "\n",
            "1/1 [==============================] - 0s 26ms/step\n",
            "\n",
            "generated text:\n",
            "recipe for  grilled halibut with tomato and onion | prepare grill for cooking over hot charcoal ( gas ) . using a gas grill , turning over once , until lightly charred and just tender , about 6 minutes . transfer to a bowl of ice water . pat dry , then cut each fillet into 1 / 2 - inch - thick slices . cut each skewer lengthwise into 1 / 2 - inch pieces . cut each fillet into 1 / 2 - inch - thick slices . arrange fillets on each plate . heat oil in a 12 - inch\n",
            "\n",
            "1/1 [==============================] - 0s 26ms/step\n",
            "\n",
            "generated text:\n",
            "recipe for  grilled halibut with tomato and onion | prepare grill for cooking over hot charcoal ( gas ) . using a gas grill , turning over once , until lightly charred and just tender , about 6 minutes . transfer to a bowl of ice water . pat dry , then cut each fillet into 1 / 2 - inch - thick slices . cut each skewer lengthwise into 1 / 2 - inch pieces . cut each fillet into 1 / 2 - inch - thick slices . arrange fillets on each plate . heat oil in a 12 - inch heavy\n",
            "\n",
            "1/1 [==============================] - 0s 25ms/step\n",
            "\n",
            "generated text:\n",
            "recipe for  grilled halibut with tomato and onion | prepare grill for cooking over hot charcoal ( gas ) . using a gas grill , turning over once , until lightly charred and just tender , about 6 minutes . transfer to a bowl of ice water . pat dry , then cut each fillet into 1 / 2 - inch - thick slices . cut each skewer lengthwise into 1 / 2 - inch pieces . cut each fillet into 1 / 2 - inch - thick slices . arrange fillets on each plate . heat oil in a 12 - inch heavy skillet\n",
            "\n",
            "1/1 [==============================] - 0s 25ms/step\n",
            "\n",
            "generated text:\n",
            "recipe for  grilled halibut with tomato and onion | prepare grill for cooking over hot charcoal ( gas ) . using a gas grill , turning over once , until lightly charred and just tender , about 6 minutes . transfer to a bowl of ice water . pat dry , then cut each fillet into 1 / 2 - inch - thick slices . cut each skewer lengthwise into 1 / 2 - inch pieces . cut each fillet into 1 / 2 - inch - thick slices . arrange fillets on each plate . heat oil in a 12 - inch heavy skillet over\n",
            "\n",
            "1/1 [==============================] - 0s 27ms/step\n",
            "\n",
            "generated text:\n",
            "recipe for  grilled halibut with tomato and onion | prepare grill for cooking over hot charcoal ( gas ) . using a gas grill , turning over once , until lightly charred and just tender , about 6 minutes . transfer to a bowl of ice water . pat dry , then cut each fillet into 1 / 2 - inch - thick slices . cut each skewer lengthwise into 1 / 2 - inch pieces . cut each fillet into 1 / 2 - inch - thick slices . arrange fillets on each plate . heat oil in a 12 - inch heavy skillet over medium\n",
            "\n",
            "1/1 [==============================] - 0s 24ms/step\n",
            "\n",
            "generated text:\n",
            "recipe for  grilled halibut with tomato and onion | prepare grill for cooking over hot charcoal ( gas ) . using a gas grill , turning over once , until lightly charred and just tender , about 6 minutes . transfer to a bowl of ice water . pat dry , then cut each fillet into 1 / 2 - inch - thick slices . cut each skewer lengthwise into 1 / 2 - inch pieces . cut each fillet into 1 / 2 - inch - thick slices . arrange fillets on each plate . heat oil in a 12 - inch heavy skillet over medium -\n",
            "\n",
            "1/1 [==============================] - 0s 30ms/step\n",
            "\n",
            "generated text:\n",
            "recipe for  grilled halibut with tomato and onion | prepare grill for cooking over hot charcoal ( gas ) . using a gas grill , turning over once , until lightly charred and just tender , about 6 minutes . transfer to a bowl of ice water . pat dry , then cut each fillet into 1 / 2 - inch - thick slices . cut each skewer lengthwise into 1 / 2 - inch pieces . cut each fillet into 1 / 2 - inch - thick slices . arrange fillets on each plate . heat oil in a 12 - inch heavy skillet over medium - high\n",
            "\n",
            "1/1 [==============================] - 0s 23ms/step\n",
            "\n",
            "generated text:\n",
            "recipe for  grilled halibut with tomato and onion | prepare grill for cooking over hot charcoal ( gas ) . using a gas grill , turning over once , until lightly charred and just tender , about 6 minutes . transfer to a bowl of ice water . pat dry , then cut each fillet into 1 / 2 - inch - thick slices . cut each skewer lengthwise into 1 / 2 - inch pieces . cut each fillet into 1 / 2 - inch - thick slices . arrange fillets on each plate . heat oil in a 12 - inch heavy skillet over medium - high heat\n",
            "\n",
            "1/1 [==============================] - 0s 24ms/step\n",
            "\n",
            "generated text:\n",
            "recipe for  grilled halibut with tomato and onion | prepare grill for cooking over hot charcoal ( gas ) . using a gas grill , turning over once , until lightly charred and just tender , about 6 minutes . transfer to a bowl of ice water . pat dry , then cut each fillet into 1 / 2 - inch - thick slices . cut each skewer lengthwise into 1 / 2 - inch pieces . cut each fillet into 1 / 2 - inch - thick slices . arrange fillets on each plate . heat oil in a 12 - inch heavy skillet over medium - high heat until\n",
            "\n",
            "1/1 [==============================] - 0s 21ms/step\n",
            "\n",
            "generated text:\n",
            "recipe for  grilled halibut with tomato and onion | prepare grill for cooking over hot charcoal ( gas ) . using a gas grill , turning over once , until lightly charred and just tender , about 6 minutes . transfer to a bowl of ice water . pat dry , then cut each fillet into 1 / 2 - inch - thick slices . cut each skewer lengthwise into 1 / 2 - inch pieces . cut each fillet into 1 / 2 - inch - thick slices . arrange fillets on each plate . heat oil in a 12 - inch heavy skillet over medium - high heat until hot\n",
            "\n",
            "1/1 [==============================] - 0s 21ms/step\n",
            "\n",
            "generated text:\n",
            "recipe for  grilled halibut with tomato and onion | prepare grill for cooking over hot charcoal ( gas ) . using a gas grill , turning over once , until lightly charred and just tender , about 6 minutes . transfer to a bowl of ice water . pat dry , then cut each fillet into 1 / 2 - inch - thick slices . cut each skewer lengthwise into 1 / 2 - inch pieces . cut each fillet into 1 / 2 - inch - thick slices . arrange fillets on each plate . heat oil in a 12 - inch heavy skillet over medium - high heat until hot but\n",
            "\n",
            "1/1 [==============================] - 0s 21ms/step\n",
            "\n",
            "generated text:\n",
            "recipe for  grilled halibut with tomato and onion | prepare grill for cooking over hot charcoal ( gas ) . using a gas grill , turning over once , until lightly charred and just tender , about 6 minutes . transfer to a bowl of ice water . pat dry , then cut each fillet into 1 / 2 - inch - thick slices . cut each skewer lengthwise into 1 / 2 - inch pieces . cut each fillet into 1 / 2 - inch - thick slices . arrange fillets on each plate . heat oil in a 12 - inch heavy skillet over medium - high heat until hot but not\n",
            "\n",
            "1/1 [==============================] - 0s 26ms/step\n",
            "\n",
            "generated text:\n",
            "recipe for  grilled halibut with tomato and onion | prepare grill for cooking over hot charcoal ( gas ) . using a gas grill , turning over once , until lightly charred and just tender , about 6 minutes . transfer to a bowl of ice water . pat dry , then cut each fillet into 1 / 2 - inch - thick slices . cut each skewer lengthwise into 1 / 2 - inch pieces . cut each fillet into 1 / 2 - inch - thick slices . arrange fillets on each plate . heat oil in a 12 - inch heavy skillet over medium - high heat until hot but not smoking\n",
            "\n",
            "1/1 [==============================] - 0s 27ms/step\n",
            "\n",
            "generated text:\n",
            "recipe for  grilled halibut with tomato and onion | prepare grill for cooking over hot charcoal ( gas ) . using a gas grill , turning over once , until lightly charred and just tender , about 6 minutes . transfer to a bowl of ice water . pat dry , then cut each fillet into 1 / 2 - inch - thick slices . cut each skewer lengthwise into 1 / 2 - inch pieces . cut each fillet into 1 / 2 - inch - thick slices . arrange fillets on each plate . heat oil in a 12 - inch heavy skillet over medium - high heat until hot but not smoking ,\n",
            "\n",
            "1/1 [==============================] - 0s 26ms/step\n",
            "\n",
            "generated text:\n",
            "recipe for  grilled halibut with tomato and onion | prepare grill for cooking over hot charcoal ( gas ) . using a gas grill , turning over once , until lightly charred and just tender , about 6 minutes . transfer to a bowl of ice water . pat dry , then cut each fillet into 1 / 2 - inch - thick slices . cut each skewer lengthwise into 1 / 2 - inch pieces . cut each fillet into 1 / 2 - inch - thick slices . arrange fillets on each plate . heat oil in a 12 - inch heavy skillet over medium - high heat until hot but not smoking , then\n",
            "\n",
            "1/1 [==============================] - 0s 28ms/step\n",
            "\n",
            "generated text:\n",
            "recipe for  grilled halibut with tomato and onion | prepare grill for cooking over hot charcoal ( gas ) . using a gas grill , turning over once , until lightly charred and just tender , about 6 minutes . transfer to a bowl of ice water . pat dry , then cut each fillet into 1 / 2 - inch - thick slices . cut each skewer lengthwise into 1 / 2 - inch pieces . cut each fillet into 1 / 2 - inch - thick slices . arrange fillets on each plate . heat oil in a 12 - inch heavy skillet over medium - high heat until hot but not smoking , then sauté\n",
            "\n",
            "1/1 [==============================] - 0s 26ms/step\n",
            "\n",
            "generated text:\n",
            "recipe for  grilled halibut with tomato and onion | prepare grill for cooking over hot charcoal ( gas ) . using a gas grill , turning over once , until lightly charred and just tender , about 6 minutes . transfer to a bowl of ice water . pat dry , then cut each fillet into 1 / 2 - inch - thick slices . cut each skewer lengthwise into 1 / 2 - inch pieces . cut each fillet into 1 / 2 - inch - thick slices . arrange fillets on each plate . heat oil in a 12 - inch heavy skillet over medium - high heat until hot but not smoking , then sauté fish\n",
            "\n",
            "1/1 [==============================] - 0s 30ms/step\n",
            "\n",
            "generated text:\n",
            "recipe for  grilled halibut with tomato and onion | prepare grill for cooking over hot charcoal ( gas ) . using a gas grill , turning over once , until lightly charred and just tender , about 6 minutes . transfer to a bowl of ice water . pat dry , then cut each fillet into 1 / 2 - inch - thick slices . cut each skewer lengthwise into 1 / 2 - inch pieces . cut each fillet into 1 / 2 - inch - thick slices . arrange fillets on each plate . heat oil in a 12 - inch heavy skillet over medium - high heat until hot but not smoking , then sauté fish until\n",
            "\n",
            "1/1 [==============================] - 0s 25ms/step\n",
            "\n",
            "generated text:\n",
            "recipe for  grilled halibut with tomato and onion | prepare grill for cooking over hot charcoal ( gas ) . using a gas grill , turning over once , until lightly charred and just tender , about 6 minutes . transfer to a bowl of ice water . pat dry , then cut each fillet into 1 / 2 - inch - thick slices . cut each skewer lengthwise into 1 / 2 - inch pieces . cut each fillet into 1 / 2 - inch - thick slices . arrange fillets on each plate . heat oil in a 12 - inch heavy skillet over medium - high heat until hot but not smoking , then sauté fish until just\n",
            "\n",
            "1/1 [==============================] - 0s 29ms/step\n",
            "\n",
            "generated text:\n",
            "recipe for  grilled halibut with tomato and onion | prepare grill for cooking over hot charcoal ( gas ) . using a gas grill , turning over once , until lightly charred and just tender , about 6 minutes . transfer to a bowl of ice water . pat dry , then cut each fillet into 1 / 2 - inch - thick slices . cut each skewer lengthwise into 1 / 2 - inch pieces . cut each fillet into 1 / 2 - inch - thick slices . arrange fillets on each plate . heat oil in a 12 - inch heavy skillet over medium - high heat until hot but not smoking , then sauté fish until just cooked\n",
            "\n",
            "1/1 [==============================] - 0s 25ms/step\n",
            "\n",
            "generated text:\n",
            "recipe for  grilled halibut with tomato and onion | prepare grill for cooking over hot charcoal ( gas ) . using a gas grill , turning over once , until lightly charred and just tender , about 6 minutes . transfer to a bowl of ice water . pat dry , then cut each fillet into 1 / 2 - inch - thick slices . cut each skewer lengthwise into 1 / 2 - inch pieces . cut each fillet into 1 / 2 - inch - thick slices . arrange fillets on each plate . heat oil in a 12 - inch heavy skillet over medium - high heat until hot but not smoking , then sauté fish until just cooked through\n",
            "\n",
            "1/1 [==============================] - 0s 27ms/step\n",
            "\n",
            "generated text:\n",
            "recipe for  grilled halibut with tomato and onion | prepare grill for cooking over hot charcoal ( gas ) . using a gas grill , turning over once , until lightly charred and just tender , about 6 minutes . transfer to a bowl of ice water . pat dry , then cut each fillet into 1 / 2 - inch - thick slices . cut each skewer lengthwise into 1 / 2 - inch pieces . cut each fillet into 1 / 2 - inch - thick slices . arrange fillets on each plate . heat oil in a 12 - inch heavy skillet over medium - high heat until hot but not smoking , then sauté fish until just cooked through ,\n",
            "\n",
            "1/1 [==============================] - 0s 25ms/step\n",
            "\n",
            "generated text:\n",
            "recipe for  grilled halibut with tomato and onion | prepare grill for cooking over hot charcoal ( gas ) . using a gas grill , turning over once , until lightly charred and just tender , about 6 minutes . transfer to a bowl of ice water . pat dry , then cut each fillet into 1 / 2 - inch - thick slices . cut each skewer lengthwise into 1 / 2 - inch pieces . cut each fillet into 1 / 2 - inch - thick slices . arrange fillets on each plate . heat oil in a 12 - inch heavy skillet over medium - high heat until hot but not smoking , then sauté fish until just cooked through , about\n",
            "\n",
            "1/1 [==============================] - 0s 22ms/step\n",
            "\n",
            "generated text:\n",
            "recipe for  grilled halibut with tomato and onion | prepare grill for cooking over hot charcoal ( gas ) . using a gas grill , turning over once , until lightly charred and just tender , about 6 minutes . transfer to a bowl of ice water . pat dry , then cut each fillet into 1 / 2 - inch - thick slices . cut each skewer lengthwise into 1 / 2 - inch pieces . cut each fillet into 1 / 2 - inch - thick slices . arrange fillets on each plate . heat oil in a 12 - inch heavy skillet over medium - high heat until hot but not smoking , then sauté fish until just cooked through , about 1\n",
            "\n",
            "1/1 [==============================] - 0s 24ms/step\n",
            "\n",
            "generated text:\n",
            "recipe for  grilled halibut with tomato and onion | prepare grill for cooking over hot charcoal ( gas ) . using a gas grill , turning over once , until lightly charred and just tender , about 6 minutes . transfer to a bowl of ice water . pat dry , then cut each fillet into 1 / 2 - inch - thick slices . cut each skewer lengthwise into 1 / 2 - inch pieces . cut each fillet into 1 / 2 - inch - thick slices . arrange fillets on each plate . heat oil in a 12 - inch heavy skillet over medium - high heat until hot but not smoking , then sauté fish until just cooked through , about 1 minute\n",
            "\n",
            "1/1 [==============================] - 0s 22ms/step\n",
            "\n",
            "generated text:\n",
            "recipe for  grilled halibut with tomato and onion | prepare grill for cooking over hot charcoal ( gas ) . using a gas grill , turning over once , until lightly charred and just tender , about 6 minutes . transfer to a bowl of ice water . pat dry , then cut each fillet into 1 / 2 - inch - thick slices . cut each skewer lengthwise into 1 / 2 - inch pieces . cut each fillet into 1 / 2 - inch - thick slices . arrange fillets on each plate . heat oil in a 12 - inch heavy skillet over medium - high heat until hot but not smoking , then sauté fish until just cooked through , about 1 minute .\n",
            "\n",
            "1/1 [==============================] - 0s 25ms/step\n",
            "\n",
            "generated text:\n",
            "recipe for  grilled halibut with tomato and onion | prepare grill for cooking over hot charcoal ( gas ) . using a gas grill , turning over once , until lightly charred and just tender , about 6 minutes . transfer to a bowl of ice water . pat dry , then cut each fillet into 1 / 2 - inch - thick slices . cut each skewer lengthwise into 1 / 2 - inch pieces . cut each fillet into 1 / 2 - inch - thick slices . arrange fillets on each plate . heat oil in a 12 - inch heavy skillet over medium - high heat until hot but not smoking , then sauté fish until just cooked through , about 1 minute . while\n",
            "\n",
            "1/1 [==============================] - 0s 27ms/step\n",
            "\n",
            "generated text:\n",
            "recipe for  grilled halibut with tomato and onion | prepare grill for cooking over hot charcoal ( gas ) . using a gas grill , turning over once , until lightly charred and just tender , about 6 minutes . transfer to a bowl of ice water . pat dry , then cut each fillet into 1 / 2 - inch - thick slices . cut each skewer lengthwise into 1 / 2 - inch pieces . cut each fillet into 1 / 2 - inch - thick slices . arrange fillets on each plate . heat oil in a 12 - inch heavy skillet over medium - high heat until hot but not smoking , then sauté fish until just cooked through , about 1 minute . while fish\n",
            "\n",
            "1/1 [==============================] - 0s 26ms/step\n",
            "\n",
            "generated text:\n",
            "recipe for  grilled halibut with tomato and onion | prepare grill for cooking over hot charcoal ( gas ) . using a gas grill , turning over once , until lightly charred and just tender , about 6 minutes . transfer to a bowl of ice water . pat dry , then cut each fillet into 1 / 2 - inch - thick slices . cut each skewer lengthwise into 1 / 2 - inch pieces . cut each fillet into 1 / 2 - inch - thick slices . arrange fillets on each plate . heat oil in a 12 - inch heavy skillet over medium - high heat until hot but not smoking , then sauté fish until just cooked through , about 1 minute . while fish is\n",
            "\n",
            "1/1 [==============================] - 0s 24ms/step\n",
            "\n",
            "generated text:\n",
            "recipe for  grilled halibut with tomato and onion | prepare grill for cooking over hot charcoal ( gas ) . using a gas grill , turning over once , until lightly charred and just tender , about 6 minutes . transfer to a bowl of ice water . pat dry , then cut each fillet into 1 / 2 - inch - thick slices . cut each skewer lengthwise into 1 / 2 - inch pieces . cut each fillet into 1 / 2 - inch - thick slices . arrange fillets on each plate . heat oil in a 12 - inch heavy skillet over medium - high heat until hot but not smoking , then sauté fish until just cooked through , about 1 minute . while fish is heating\n",
            "\n",
            "1/1 [==============================] - 0s 22ms/step\n",
            "\n",
            "generated text:\n",
            "recipe for  grilled halibut with tomato and onion | prepare grill for cooking over hot charcoal ( gas ) . using a gas grill , turning over once , until lightly charred and just tender , about 6 minutes . transfer to a bowl of ice water . pat dry , then cut each fillet into 1 / 2 - inch - thick slices . cut each skewer lengthwise into 1 / 2 - inch pieces . cut each fillet into 1 / 2 - inch - thick slices . arrange fillets on each plate . heat oil in a 12 - inch heavy skillet over medium - high heat until hot but not smoking , then sauté fish until just cooked through , about 1 minute . while fish is heating ,\n",
            "\n",
            "1/1 [==============================] - 0s 23ms/step\n",
            "\n",
            "generated text:\n",
            "recipe for  grilled halibut with tomato and onion | prepare grill for cooking over hot charcoal ( gas ) . using a gas grill , turning over once , until lightly charred and just tender , about 6 minutes . transfer to a bowl of ice water . pat dry , then cut each fillet into 1 / 2 - inch - thick slices . cut each skewer lengthwise into 1 / 2 - inch pieces . cut each fillet into 1 / 2 - inch - thick slices . arrange fillets on each plate . heat oil in a 12 - inch heavy skillet over medium - high heat until hot but not smoking , then sauté fish until just cooked through , about 1 minute . while fish is heating , whisk\n",
            "\n",
            "1/1 [==============================] - 0s 23ms/step\n",
            "\n",
            "generated text:\n",
            "recipe for  grilled halibut with tomato and onion | prepare grill for cooking over hot charcoal ( gas ) . using a gas grill , turning over once , until lightly charred and just tender , about 6 minutes . transfer to a bowl of ice water . pat dry , then cut each fillet into 1 / 2 - inch - thick slices . cut each skewer lengthwise into 1 / 2 - inch pieces . cut each fillet into 1 / 2 - inch - thick slices . arrange fillets on each plate . heat oil in a 12 - inch heavy skillet over medium - high heat until hot but not smoking , then sauté fish until just cooked through , about 1 minute . while fish is heating , whisk together\n",
            "\n",
            "1/1 [==============================] - 0s 24ms/step\n",
            "\n",
            "generated text:\n",
            "recipe for  grilled halibut with tomato and onion | prepare grill for cooking over hot charcoal ( gas ) . using a gas grill , turning over once , until lightly charred and just tender , about 6 minutes . transfer to a bowl of ice water . pat dry , then cut each fillet into 1 / 2 - inch - thick slices . cut each skewer lengthwise into 1 / 2 - inch pieces . cut each fillet into 1 / 2 - inch - thick slices . arrange fillets on each plate . heat oil in a 12 - inch heavy skillet over medium - high heat until hot but not smoking , then sauté fish until just cooked through , about 1 minute . while fish is heating , whisk together oil\n",
            "\n",
            "1/1 [==============================] - 0s 26ms/step\n",
            "\n",
            "generated text:\n",
            "recipe for  grilled halibut with tomato and onion | prepare grill for cooking over hot charcoal ( gas ) . using a gas grill , turning over once , until lightly charred and just tender , about 6 minutes . transfer to a bowl of ice water . pat dry , then cut each fillet into 1 / 2 - inch - thick slices . cut each skewer lengthwise into 1 / 2 - inch pieces . cut each fillet into 1 / 2 - inch - thick slices . arrange fillets on each plate . heat oil in a 12 - inch heavy skillet over medium - high heat until hot but not smoking , then sauté fish until just cooked through , about 1 minute . while fish is heating , whisk together oil ,\n",
            "\n",
            "1/1 [==============================] - 0s 30ms/step\n",
            "\n",
            "generated text:\n",
            "recipe for  grilled halibut with tomato and onion | prepare grill for cooking over hot charcoal ( gas ) . using a gas grill , turning over once , until lightly charred and just tender , about 6 minutes . transfer to a bowl of ice water . pat dry , then cut each fillet into 1 / 2 - inch - thick slices . cut each skewer lengthwise into 1 / 2 - inch pieces . cut each fillet into 1 / 2 - inch - thick slices . arrange fillets on each plate . heat oil in a 12 - inch heavy skillet over medium - high heat until hot but not smoking , then sauté fish until just cooked through , about 1 minute . while fish is heating , whisk together oil , egg\n",
            "\n",
            "1/1 [==============================] - 0s 24ms/step\n",
            "\n",
            "generated text:\n",
            "recipe for  grilled halibut with tomato and onion | prepare grill for cooking over hot charcoal ( gas ) . using a gas grill , turning over once , until lightly charred and just tender , about 6 minutes . transfer to a bowl of ice water . pat dry , then cut each fillet into 1 / 2 - inch - thick slices . cut each skewer lengthwise into 1 / 2 - inch pieces . cut each fillet into 1 / 2 - inch - thick slices . arrange fillets on each plate . heat oil in a 12 - inch heavy skillet over medium - high heat until hot but not smoking , then sauté fish until just cooked through , about 1 minute . while fish is heating , whisk together oil , egg ,\n",
            "\n",
            "1/1 [==============================] - 0s 26ms/step\n",
            "\n",
            "generated text:\n",
            "recipe for  grilled halibut with tomato and onion | prepare grill for cooking over hot charcoal ( gas ) . using a gas grill , turning over once , until lightly charred and just tender , about 6 minutes . transfer to a bowl of ice water . pat dry , then cut each fillet into 1 / 2 - inch - thick slices . cut each skewer lengthwise into 1 / 2 - inch pieces . cut each fillet into 1 / 2 - inch - thick slices . arrange fillets on each plate . heat oil in a 12 - inch heavy skillet over medium - high heat until hot but not smoking , then sauté fish until just cooked through , about 1 minute . while fish is heating , whisk together oil , egg , and\n",
            "\n",
            "1/1 [==============================] - 0s 25ms/step\n",
            "\n",
            "generated text:\n",
            "recipe for  grilled halibut with tomato and onion | prepare grill for cooking over hot charcoal ( gas ) . using a gas grill , turning over once , until lightly charred and just tender , about 6 minutes . transfer to a bowl of ice water . pat dry , then cut each fillet into 1 / 2 - inch - thick slices . cut each skewer lengthwise into 1 / 2 - inch pieces . cut each fillet into 1 / 2 - inch - thick slices . arrange fillets on each plate . heat oil in a 12 - inch heavy skillet over medium - high heat until hot but not smoking , then sauté fish until just cooked through , about 1 minute . while fish is heating , whisk together oil , egg , and salt\n",
            "\n",
            "1/1 [==============================] - 0s 23ms/step\n",
            "\n",
            "generated text:\n",
            "recipe for  grilled halibut with tomato and onion | prepare grill for cooking over hot charcoal ( gas ) . using a gas grill , turning over once , until lightly charred and just tender , about 6 minutes . transfer to a bowl of ice water . pat dry , then cut each fillet into 1 / 2 - inch - thick slices . cut each skewer lengthwise into 1 / 2 - inch pieces . cut each fillet into 1 / 2 - inch - thick slices . arrange fillets on each plate . heat oil in a 12 - inch heavy skillet over medium - high heat until hot but not smoking , then sauté fish until just cooked through , about 1 minute . while fish is heating , whisk together oil , egg , and salt in\n",
            "\n",
            "1/1 [==============================] - 0s 23ms/step\n",
            "\n",
            "generated text:\n",
            "recipe for  grilled halibut with tomato and onion | prepare grill for cooking over hot charcoal ( gas ) . using a gas grill , turning over once , until lightly charred and just tender , about 6 minutes . transfer to a bowl of ice water . pat dry , then cut each fillet into 1 / 2 - inch - thick slices . cut each skewer lengthwise into 1 / 2 - inch pieces . cut each fillet into 1 / 2 - inch - thick slices . arrange fillets on each plate . heat oil in a 12 - inch heavy skillet over medium - high heat until hot but not smoking , then sauté fish until just cooked through , about 1 minute . while fish is heating , whisk together oil , egg , and salt in a\n",
            "\n",
            "1/1 [==============================] - 0s 24ms/step\n",
            "\n",
            "generated text:\n",
            "recipe for  grilled halibut with tomato and onion | prepare grill for cooking over hot charcoal ( gas ) . using a gas grill , turning over once , until lightly charred and just tender , about 6 minutes . transfer to a bowl of ice water . pat dry , then cut each fillet into 1 / 2 - inch - thick slices . cut each skewer lengthwise into 1 / 2 - inch pieces . cut each fillet into 1 / 2 - inch - thick slices . arrange fillets on each plate . heat oil in a 12 - inch heavy skillet over medium - high heat until hot but not smoking , then sauté fish until just cooked through , about 1 minute . while fish is heating , whisk together oil , egg , and salt in a large\n",
            "\n",
            "1/1 [==============================] - 0s 29ms/step\n",
            "\n",
            "generated text:\n",
            "recipe for  grilled halibut with tomato and onion | prepare grill for cooking over hot charcoal ( gas ) . using a gas grill , turning over once , until lightly charred and just tender , about 6 minutes . transfer to a bowl of ice water . pat dry , then cut each fillet into 1 / 2 - inch - thick slices . cut each skewer lengthwise into 1 / 2 - inch pieces . cut each fillet into 1 / 2 - inch - thick slices . arrange fillets on each plate . heat oil in a 12 - inch heavy skillet over medium - high heat until hot but not smoking , then sauté fish until just cooked through , about 1 minute . while fish is heating , whisk together oil , egg , and salt in a large bowl\n",
            "\n",
            "1/1 [==============================] - 0s 24ms/step\n",
            "\n",
            "generated text:\n",
            "recipe for  grilled halibut with tomato and onion | prepare grill for cooking over hot charcoal ( gas ) . using a gas grill , turning over once , until lightly charred and just tender , about 6 minutes . transfer to a bowl of ice water . pat dry , then cut each fillet into 1 / 2 - inch - thick slices . cut each skewer lengthwise into 1 / 2 - inch pieces . cut each fillet into 1 / 2 - inch - thick slices . arrange fillets on each plate . heat oil in a 12 - inch heavy skillet over medium - high heat until hot but not smoking , then sauté fish until just cooked through , about 1 minute . while fish is heating , whisk together oil , egg , and salt in a large bowl .\n",
            "\n",
            "1/1 [==============================] - 0s 24ms/step\n",
            "\n",
            "generated text:\n",
            "recipe for  grilled halibut with tomato and onion | prepare grill for cooking over hot charcoal ( gas ) . using a gas grill , turning over once , until lightly charred and just tender , about 6 minutes . transfer to a bowl of ice water . pat dry , then cut each fillet into 1 / 2 - inch - thick slices . cut each skewer lengthwise into 1 / 2 - inch pieces . cut each fillet into 1 / 2 - inch - thick slices . arrange fillets on each plate . heat oil in a 12 - inch heavy skillet over medium - high heat until hot but not smoking , then sauté fish until just cooked through , about 1 minute . while fish is heating , whisk together oil , egg , and salt in a large bowl . add\n",
            "\n",
            "1/1 [==============================] - 0s 28ms/step\n",
            "\n",
            "generated text:\n",
            "recipe for  grilled halibut with tomato and onion | prepare grill for cooking over hot charcoal ( gas ) . using a gas grill , turning over once , until lightly charred and just tender , about 6 minutes . transfer to a bowl of ice water . pat dry , then cut each fillet into 1 / 2 - inch - thick slices . cut each skewer lengthwise into 1 / 2 - inch pieces . cut each fillet into 1 / 2 - inch - thick slices . arrange fillets on each plate . heat oil in a 12 - inch heavy skillet over medium - high heat until hot but not smoking , then sauté fish until just cooked through , about 1 minute . while fish is heating , whisk together oil , egg , and salt in a large bowl . add vinegar\n",
            "\n",
            "1/1 [==============================] - 0s 26ms/step\n",
            "\n",
            "generated text:\n",
            "recipe for  grilled halibut with tomato and onion | prepare grill for cooking over hot charcoal ( gas ) . using a gas grill , turning over once , until lightly charred and just tender , about 6 minutes . transfer to a bowl of ice water . pat dry , then cut each fillet into 1 / 2 - inch - thick slices . cut each skewer lengthwise into 1 / 2 - inch pieces . cut each fillet into 1 / 2 - inch - thick slices . arrange fillets on each plate . heat oil in a 12 - inch heavy skillet over medium - high heat until hot but not smoking , then sauté fish until just cooked through , about 1 minute . while fish is heating , whisk together oil , egg , and salt in a large bowl . add vinegar ;\n",
            "\n",
            "1/1 [==============================] - 0s 21ms/step\n",
            "\n",
            "generated text:\n",
            "recipe for  grilled halibut with tomato and onion | prepare grill for cooking over hot charcoal ( gas ) . using a gas grill , turning over once , until lightly charred and just tender , about 6 minutes . transfer to a bowl of ice water . pat dry , then cut each fillet into 1 / 2 - inch - thick slices . cut each skewer lengthwise into 1 / 2 - inch pieces . cut each fillet into 1 / 2 - inch - thick slices . arrange fillets on each plate . heat oil in a 12 - inch heavy skillet over medium - high heat until hot but not smoking , then sauté fish until just cooked through , about 1 minute . while fish is heating , whisk together oil , egg , and salt in a large bowl . add vinegar ; toss\n",
            "\n"
          ]
        }
      ]
    },
    {
      "cell_type": "code",
      "source": [
        "output, attention_scores = gpt.predict(text_vec([\"recipe for \"]))\n",
        "attention_scores[0][0][9]           # first dimension is 1, second dimension is 2 i.e. number of heads,\n",
        "                                    # and 3rd and 4th dimension is 251-251 kyunki max_len = 251 rkhi h to\n",
        "                                    # to mtlb konsa index ka word konse index pr sbse jyada focus kr rha h\n",
        "                                    # kyunki initially 1 word se start krte h to candidate word first word\n",
        "                                    # pr hi attention de paata h and then fir generate hone k baad 1 word add\n",
        "                                    # ho gaya prompt m to teesra word pehle 2 pr uska attention distributd hota\n",
        "                                    # h, aise hi 13th generated word pichle 12 words pr attention de paayega\n",
        ""
      ],
      "metadata": {
        "colab": {
          "base_uri": "https://localhost:8080/",
          "height": 919
        },
        "id": "Qf3HlGlQGjvO",
        "outputId": "c7653bf7-5f16-4711-cc54-a71d3bac0858"
      },
      "execution_count": 94,
      "outputs": [
        {
          "output_type": "display_data",
          "data": {
            "text/plain": [
              "<IPython.core.display.HTML object>"
            ],
            "text/html": [
              "<style>table.dataframe td{white-space: nowrap;}</style>"
            ]
          },
          "metadata": {}
        },
        {
          "output_type": "display_data",
          "data": {
            "text/plain": [
              "<IPython.core.display.HTML object>"
            ],
            "text/html": [
              "<style>table.dataframe td{white-space: nowrap;}</style>"
            ]
          },
          "metadata": {}
        },
        {
          "output_type": "display_data",
          "data": {
            "text/plain": [
              "<IPython.core.display.HTML object>"
            ],
            "text/html": [
              "\n",
              "  <style>\n",
              "    pre {\n",
              "        white-space: pre-wrap;\n",
              "    }\n",
              "  </style>\n",
              "  "
            ]
          },
          "metadata": {}
        },
        {
          "output_type": "display_data",
          "data": {
            "text/plain": [
              "<IPython.core.display.HTML object>"
            ],
            "text/html": [
              "\n",
              "  <style>\n",
              "    pre {\n",
              "        white-space: pre-wrap;\n",
              "    }\n",
              "  </style>\n",
              "  "
            ]
          },
          "metadata": {}
        },
        {
          "output_type": "display_data",
          "data": {
            "text/plain": [
              "<IPython.core.display.HTML object>"
            ],
            "text/html": [
              "\n",
              "  <style>\n",
              "    pre {\n",
              "        white-space: pre-wrap;\n",
              "    }\n",
              "  </style>\n",
              "  "
            ]
          },
          "metadata": {}
        },
        {
          "output_type": "stream",
          "name": "stdout",
          "text": [
            "1/1 [==============================] - 0s 40ms/step\n"
          ]
        },
        {
          "output_type": "execute_result",
          "data": {
            "text/plain": [
              "array([0.0410438 , 0.14003523, 0.0406408 , 0.07763904, 0.07841241,\n",
              "       0.08503987, 0.09607931, 0.09328586, 0.17420892, 0.17361471,\n",
              "       0.        , 0.        , 0.        , 0.        , 0.        ,\n",
              "       0.        , 0.        , 0.        , 0.        , 0.        ,\n",
              "       0.        , 0.        , 0.        , 0.        , 0.        ,\n",
              "       0.        , 0.        , 0.        , 0.        , 0.        ,\n",
              "       0.        , 0.        , 0.        , 0.        , 0.        ,\n",
              "       0.        , 0.        , 0.        , 0.        , 0.        ,\n",
              "       0.        , 0.        , 0.        , 0.        , 0.        ,\n",
              "       0.        , 0.        , 0.        , 0.        , 0.        ,\n",
              "       0.        , 0.        , 0.        , 0.        , 0.        ,\n",
              "       0.        , 0.        , 0.        , 0.        , 0.        ,\n",
              "       0.        , 0.        , 0.        , 0.        , 0.        ,\n",
              "       0.        , 0.        , 0.        , 0.        , 0.        ,\n",
              "       0.        , 0.        , 0.        , 0.        , 0.        ,\n",
              "       0.        , 0.        , 0.        , 0.        , 0.        ,\n",
              "       0.        , 0.        , 0.        , 0.        , 0.        ,\n",
              "       0.        , 0.        , 0.        , 0.        , 0.        ,\n",
              "       0.        , 0.        , 0.        , 0.        , 0.        ,\n",
              "       0.        , 0.        , 0.        , 0.        , 0.        ,\n",
              "       0.        , 0.        , 0.        , 0.        , 0.        ,\n",
              "       0.        , 0.        , 0.        , 0.        , 0.        ,\n",
              "       0.        , 0.        , 0.        , 0.        , 0.        ,\n",
              "       0.        , 0.        , 0.        , 0.        , 0.        ,\n",
              "       0.        , 0.        , 0.        , 0.        , 0.        ,\n",
              "       0.        , 0.        , 0.        , 0.        , 0.        ,\n",
              "       0.        , 0.        , 0.        , 0.        , 0.        ,\n",
              "       0.        , 0.        , 0.        , 0.        , 0.        ,\n",
              "       0.        , 0.        , 0.        , 0.        , 0.        ,\n",
              "       0.        , 0.        , 0.        , 0.        , 0.        ,\n",
              "       0.        , 0.        , 0.        , 0.        , 0.        ,\n",
              "       0.        , 0.        , 0.        , 0.        , 0.        ,\n",
              "       0.        , 0.        , 0.        , 0.        , 0.        ,\n",
              "       0.        , 0.        , 0.        , 0.        , 0.        ,\n",
              "       0.        , 0.        , 0.        , 0.        , 0.        ,\n",
              "       0.        , 0.        , 0.        , 0.        , 0.        ,\n",
              "       0.        , 0.        , 0.        , 0.        , 0.        ,\n",
              "       0.        , 0.        , 0.        , 0.        , 0.        ,\n",
              "       0.        , 0.        , 0.        , 0.        , 0.        ,\n",
              "       0.        , 0.        , 0.        , 0.        , 0.        ,\n",
              "       0.        , 0.        , 0.        , 0.        , 0.        ,\n",
              "       0.        , 0.        , 0.        , 0.        , 0.        ,\n",
              "       0.        , 0.        , 0.        , 0.        , 0.        ,\n",
              "       0.        , 0.        , 0.        , 0.        , 0.        ,\n",
              "       0.        , 0.        , 0.        , 0.        , 0.        ,\n",
              "       0.        , 0.        , 0.        , 0.        , 0.        ,\n",
              "       0.        , 0.        , 0.        , 0.        , 0.        ,\n",
              "       0.        , 0.        , 0.        , 0.        , 0.        ,\n",
              "       0.        , 0.        , 0.        , 0.        , 0.        ,\n",
              "       0.        , 0.        , 0.        , 0.        , 0.        ,\n",
              "       0.        ], dtype=float32)"
            ]
          },
          "metadata": {},
          "execution_count": 94
        }
      ]
    }
  ]
}